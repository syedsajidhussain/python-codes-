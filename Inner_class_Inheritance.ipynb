{
  "nbformat": 4,
  "nbformat_minor": 0,
  "metadata": {
    "colab": {
      "provenance": [],
      "authorship_tag": "ABX9TyMMUVe6zqqNTyzEGsg4h/Vt",
      "include_colab_link": true
    },
    "kernelspec": {
      "name": "python3",
      "display_name": "Python 3"
    },
    "language_info": {
      "name": "python"
    }
  },
  "cells": [
    {
      "cell_type": "markdown",
      "metadata": {
        "id": "view-in-github",
        "colab_type": "text"
      },
      "source": [
        "<a href=\"https://colab.research.google.com/github/syedsajidhussain/python-codes-/blob/main/Inner_class_Inheritance.ipynb\" target=\"_parent\"><img src=\"https://colab.research.google.com/assets/colab-badge.svg\" alt=\"Open In Colab\"/></a>"
      ]
    },
    {
      "cell_type": "markdown",
      "source": [
        "**Properties of first class functions:**\n",
        "\n",
        "\n",
        "*  A function is an instance of the Object type.\n",
        "*   You can store the function in a variable.\n",
        "\n",
        "* you can pass the function as a parameter to another function.\n",
        "\n",
        "*  You can return the function from a function.\n",
        "*   you can store them in data structures such as hash tables, lists, …"
      ],
      "metadata": {
        "id": "PVWJqvp7VYoe"
      }
    },
    {
      "cell_type": "code",
      "source": [
        "# Python program to illustrate functions\n",
        "# can be treated as objects\n",
        "def shout(text):\n",
        "\treturn text.upper()\n",
        "\n",
        "print(shout('Hello'))\n",
        "\n",
        "yell = shout\n",
        "\n",
        "print(yell('Hello'))\n"
      ],
      "metadata": {
        "colab": {
          "base_uri": "https://localhost:8080/"
        },
        "id": "GxqgT-GFU8PV",
        "outputId": "66b57679-4bd9-4272-9d63-50b487060caf"
      },
      "execution_count": null,
      "outputs": [
        {
          "output_type": "stream",
          "name": "stdout",
          "text": [
            "HELLO\n",
            "HELLO\n"
          ]
        }
      ]
    },
    {
      "cell_type": "code",
      "source": [
        "# Python program to illustrate functions\n",
        "# can be passed as arguments to other functions\n",
        "def shout(text):\n",
        "\treturn text.upper()\n",
        "\n",
        "def whisper(text):\n",
        "\treturn text.lower()\n",
        "\n",
        "def greet(func):\n",
        "\t# storing the function in a variable\n",
        "\tgreeting = func(\"\"\"Hi, I am created by a function passed as an argument.\"\"\")\n",
        "\tprint (greeting)\n",
        "\n",
        "greet(shout)\n",
        "greet(whisper)\n"
      ],
      "metadata": {
        "colab": {
          "base_uri": "https://localhost:8080/"
        },
        "id": "smGxF_zpWn1J",
        "outputId": "b8e3a14d-ae9b-42ee-d458-ca8028bf9dfd"
      },
      "execution_count": null,
      "outputs": [
        {
          "output_type": "stream",
          "name": "stdout",
          "text": [
            "HI, I AM CREATED BY A FUNCTION PASSED AS AN ARGUMENT.\n",
            "hi, i am created by a function passed as an argument.\n"
          ]
        }
      ]
    },
    {
      "cell_type": "code",
      "source": [
        "def abc(text):\n",
        "  return text.upper()\n",
        "\n",
        "print(abc(\"my name is sajid\"))\n",
        "\n",
        "func=abc\n",
        "func(\"my name is nadeem\")\n",
        "\n"
      ],
      "metadata": {
        "colab": {
          "base_uri": "https://localhost:8080/",
          "height": 53
        },
        "id": "XBX_ntfuYV2g",
        "outputId": "3862180a-7412-4ac2-fb0b-ee1d4c472559"
      },
      "execution_count": null,
      "outputs": [
        {
          "output_type": "stream",
          "name": "stdout",
          "text": [
            "MY NAME IS SAJID\n"
          ]
        },
        {
          "output_type": "execute_result",
          "data": {
            "text/plain": [
              "'MY NAME IS NADEEM'"
            ],
            "application/vnd.google.colaboratory.intrinsic+json": {
              "type": "string"
            }
          },
          "metadata": {},
          "execution_count": 4
        }
      ]
    },
    {
      "cell_type": "code",
      "source": [
        "def abc(text):\n",
        "  return text.upper()\n",
        "\n",
        "def xyz(text):\n",
        "  return text.lower()\n",
        "\n",
        "def greet(func):\n",
        "  greeting=func(\"my name is sajid\")\n",
        "  print(greeting)\n",
        "\n",
        "greet(abc)\n",
        "greet(xyz)\n"
      ],
      "metadata": {
        "colab": {
          "base_uri": "https://localhost:8080/"
        },
        "id": "GpuV7n-fZ7Xn",
        "outputId": "07a38fe6-055f-4313-ce5e-dde1e1dd74b1"
      },
      "execution_count": null,
      "outputs": [
        {
          "output_type": "stream",
          "name": "stdout",
          "text": [
            "MY NAME IS SAJID\n",
            "my name is sajid\n"
          ]
        }
      ]
    },
    {
      "cell_type": "code",
      "source": [
        "class Employee:\n",
        "  name='sajid'\n",
        "  dept='socs'\n",
        "  def __init__(self, n, d):\n",
        "    self.n=n\n",
        "    self.d=d\n",
        "    print(self.n, self.d)\n",
        "\n",
        "  def info(self):\n",
        "    print(self.name, self.dept)\n",
        "\n",
        "  class Coordinator:\n",
        "    def info(self):\n",
        "      self.sem='Devops'\n",
        "      self.batch='B1B2'\n",
        "      print(self.sem, self.batch)\n",
        "\n",
        "e1 = Employee('nadeem', 'socs')\n",
        "e2 = Employee('sajid', 'socs')\n",
        "\n",
        "e3 = Employee.Coordinator()\n",
        "e3.info()\n"
      ],
      "metadata": {
        "colab": {
          "base_uri": "https://localhost:8080/"
        },
        "id": "7J9qKTe_ZeR0",
        "outputId": "f503f31d-0918-468a-d698-446ce0fc9280"
      },
      "execution_count": null,
      "outputs": [
        {
          "output_type": "stream",
          "name": "stdout",
          "text": [
            "nadeem socs\n",
            "sajid socs\n",
            "Devops B1B2\n"
          ]
        }
      ]
    },
    {
      "cell_type": "code",
      "source": [
        "class Employee:\n",
        "  name='sajid'\n",
        "  dept='socs'\n",
        "  def __init__(self, n, d):\n",
        "    self.n=n\n",
        "    self.d=d\n",
        "    self.coord= self.Coordinator()\n",
        "    print(self.n, self.d)\n",
        "\n",
        "  def info(self):\n",
        "    print(self.name, self.dept)\n",
        "    self.coord.info()\n",
        "\n",
        "  class Coordinator:\n",
        "    def info(self):\n",
        "      self.sem='Devops'\n",
        "      self.batch='B1B2'\n",
        "      print(self.sem, self.batch)\n",
        "\n",
        "e1 = Employee('nadeem', 'socs')\n",
        "e2 = Employee('sajid', 'socs')\n",
        "\n",
        "e1.info()\n",
        "\n"
      ],
      "metadata": {
        "colab": {
          "base_uri": "https://localhost:8080/"
        },
        "id": "o7DQMr29ZdDI",
        "outputId": "8b49cfa3-3fdd-4d95-e248-68da517c1ac1"
      },
      "execution_count": null,
      "outputs": [
        {
          "output_type": "stream",
          "name": "stdout",
          "text": [
            "nadeem socs\n",
            "sajid socs\n",
            "sajid socs\n",
            "Devops B1B2\n"
          ]
        }
      ]
    },
    {
      "cell_type": "code",
      "source": [
        "class Student:\n",
        "  def __init__(self, name, sapID):\n",
        "    self.n=name\n",
        "    self.s=sapID\n",
        "    self.Mem= self.Member()\n",
        "\n",
        "  def info(self):\n",
        "    print(self.n, self.s)\n",
        "\n",
        "  class Member:\n",
        "    def __init__(self):\n",
        "      self.sports='Football'\n",
        "      self.cca='Music'\n",
        "\n",
        "    def info(self):\n",
        "      print(self.sports, self.cca)\n",
        "\n",
        "s1=Student(\"SAjid\", 40004007)\n",
        "s1.Mem.info()\n"
      ],
      "metadata": {
        "colab": {
          "base_uri": "https://localhost:8080/"
        },
        "id": "_JP_iJYVZdEh",
        "outputId": "18a046ec-e3c5-4035-e963-a943074693f4"
      },
      "execution_count": null,
      "outputs": [
        {
          "output_type": "stream",
          "name": "stdout",
          "text": [
            "Football Music\n"
          ]
        }
      ]
    },
    {
      "cell_type": "code",
      "source": [
        "class Student:\n",
        "  def walk(self):\n",
        "    print(\"walk fast\")\n",
        "\n",
        "\n",
        "class Member(Student):\n",
        "  print(\"welcome to python\")\n",
        "\n",
        "s1=Member()\n",
        "s1.walk()"
      ],
      "metadata": {
        "id": "ylXVqMqQweok",
        "colab": {
          "base_uri": "https://localhost:8080/"
        },
        "outputId": "12e2265f-2ea1-42e9-cc94-e826dbb84c24"
      },
      "execution_count": null,
      "outputs": [
        {
          "output_type": "stream",
          "name": "stdout",
          "text": [
            "welcome to python\n",
            "walk fast\n"
          ]
        }
      ]
    },
    {
      "cell_type": "code",
      "source": [],
      "metadata": {
        "id": "BbqolDKwfukP"
      },
      "execution_count": null,
      "outputs": []
    }
  ]
}