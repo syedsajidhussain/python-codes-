{
  "nbformat": 4,
  "nbformat_minor": 0,
  "metadata": {
    "colab": {
      "provenance": [],
      "mount_file_id": "1-lz3pFWoJeIWnqEU0C1T35GI9Cf0EnnH",
      "authorship_tag": "ABX9TyOh6Yz46bF4qgPwPiR5c7vl",
      "include_colab_link": true
    },
    "kernelspec": {
      "name": "python3",
      "display_name": "Python 3"
    },
    "language_info": {
      "name": "python"
    }
  },
  "cells": [
    {
      "cell_type": "markdown",
      "metadata": {
        "id": "view-in-github",
        "colab_type": "text"
      },
      "source": [
        "<a href=\"https://colab.research.google.com/github/syedsajidhussain/python-codes-/blob/main/Functions.ipynb\" target=\"_parent\"><img src=\"https://colab.research.google.com/assets/colab-badge.svg\" alt=\"Open In Colab\"/></a>"
      ]
    },
    {
      "cell_type": "code",
      "execution_count": null,
      "metadata": {
        "colab": {
          "base_uri": "https://localhost:8080/"
        },
        "id": "VviO4DNDxYFe",
        "outputId": "3c4adc4c-25c9-42e2-f247-015da54f83d7"
      },
      "outputs": [
        {
          "output_type": "stream",
          "name": "stdout",
          "text": [
            "start\n",
            "hi guys\n",
            "welcome to the python programming\n",
            "finish\n"
          ]
        }
      ],
      "source": [
        "def greet_students():\n",
        "  print(\"hi guys\")\n",
        "  print(\"welcome to the python programming\")\n",
        "\n",
        "print('start')\n",
        "greet_students()\n",
        "print('finish')"
      ]
    },
    {
      "cell_type": "markdown",
      "source": [
        "adding parameters"
      ],
      "metadata": {
        "id": "9CJnwiM9ytn4"
      }
    },
    {
      "cell_type": "code",
      "source": [
        "def greet_students(name):  #parameters as placeholder\n",
        "  print(f\"hi {name}\")\n",
        "  print(\"welcome to the python programming\")\n",
        "\n",
        "print('start')\n",
        "greet_students(\"akash\")  #arguments as actual values\n",
        "print('finish')"
      ],
      "metadata": {
        "colab": {
          "base_uri": "https://localhost:8080/"
        },
        "id": "oMSkuIqwyF3r",
        "outputId": "14319f2f-4813-4ea5-dcc3-19deaa03d43c"
      },
      "execution_count": null,
      "outputs": [
        {
          "output_type": "stream",
          "name": "stdout",
          "text": [
            "start\n",
            "hi akash\n",
            "welcome to the python programming\n",
            "finish\n"
          ]
        }
      ]
    },
    {
      "cell_type": "code",
      "source": [],
      "metadata": {
        "id": "y8LB7CXMBUso"
      },
      "execution_count": null,
      "outputs": []
    },
    {
      "cell_type": "code",
      "source": [
        "def greet_students(name):\n",
        "  print(f\"hi {name}\")\n",
        "  print(\"welcome to the python programming\")\n",
        "\n",
        "print('start')\n",
        "greet_students(\"sajid\")\n",
        "greet_students(\"Deepak\")\n",
        "print('finish')"
      ],
      "metadata": {
        "colab": {
          "base_uri": "https://localhost:8080/"
        },
        "id": "nL5bVeHP1flC",
        "outputId": "72aec0f2-d429-4562-a5c0-3a19e080bf6c"
      },
      "execution_count": null,
      "outputs": [
        {
          "output_type": "stream",
          "name": "stdout",
          "text": [
            "start\n",
            "hi sajid\n",
            "welcome to the python programming\n",
            "hi Deepak\n",
            "welcome to the python programming\n",
            "finish\n"
          ]
        }
      ]
    },
    {
      "cell_type": "code",
      "source": [
        "def greet_students(f_name, l_name):\n",
        "  print(f\"hi {f_name} {l_name}\")\n",
        "  print(\"welcome to the python programming\")\n",
        "\n",
        "print('start')\n",
        "greet_students(\"Syed\",\"sajid\")  #positional arguments\n",
        "greet_students(l_name=\"sajid\",f_name=\"Syed\") #keyword arguments\n",
        "greet_students(\"Deepak\",\"Sharma\")\n",
        "print('finish')"
      ],
      "metadata": {
        "id": "XBjr7y-o11Go"
      },
      "execution_count": null,
      "outputs": []
    },
    {
      "cell_type": "code",
      "source": [
        "def cost(mrp, ship, dsc):\n",
        "  print(f\"{mrp} {ship} {dsc}\")\n",
        "  total= mrp+ship-dsc\n",
        "  print(total)\n",
        "\n",
        "print(\"what is the total cost of sneakers\")\n",
        "cost(mrp=5000,dsc=100,ship=50)"
      ],
      "metadata": {
        "colab": {
          "base_uri": "https://localhost:8080/"
        },
        "id": "216Fapcf3Slk",
        "outputId": "5d039d6a-05d3-491c-8a11-5f775a6b7fd9"
      },
      "execution_count": null,
      "outputs": [
        {
          "output_type": "stream",
          "name": "stdout",
          "text": [
            "what is the total cost of sneakers\n",
            "5000 50 100\n",
            "4950\n"
          ]
        }
      ]
    },
    {
      "cell_type": "markdown",
      "source": [
        "Return statement"
      ],
      "metadata": {
        "id": "aarvvO5Q8Dge"
      }
    },
    {
      "cell_type": "code",
      "source": [
        "def cube(n):\n",
        "  return n**3\n",
        "\n",
        "result= cube\n",
        "print(result(3))\n"
      ],
      "metadata": {
        "colab": {
          "base_uri": "https://localhost:8080/"
        },
        "id": "X6iyElrm6kYA",
        "outputId": "e59677f1-0218-428b-9033-0eabb6cdbb12"
      },
      "execution_count": null,
      "outputs": [
        {
          "output_type": "stream",
          "name": "stdout",
          "text": [
            "27\n"
          ]
        }
      ]
    },
    {
      "cell_type": "code",
      "source": [
        "message = input(\"enter \")\n",
        "words = message.split(' ') #converts input message into list of words\n",
        "#create an emoji dictionery use windows logo key + dot(.) to add emojis\n",
        "emojis = {\n",
        "        \":)\" : \"😄\" ,\n",
        "        \"(:\" : \" 😥\"\n",
        "        }\n",
        "\n",
        "output =''\n",
        "for word in words:\n",
        "    output +=emojis.get(word, word)+ \" \"\n",
        "print(output)"
      ],
      "metadata": {
        "id": "wO0a46Ms9EC4"
      },
      "execution_count": null,
      "outputs": []
    },
    {
      "cell_type": "code",
      "source": [
        "def emoji_converter(message):\n",
        "  words = message.split(' ') #converts input message into list of words\n",
        "  #create an emoji dictionery use windows logo key + dot(.) to add emojis\n",
        "  emojis = {\n",
        "          \":)\" : \"😄\" ,\n",
        "          \"(:\" : \" 😥\"\n",
        "          }\n",
        "\n",
        "  output =''\n",
        "  for word in words:\n",
        "      output+=emojis.get(word, word) + \" \"\n",
        "  return output\n",
        "\n",
        "message= input(\"enter the message\")\n",
        "print(emoji_converter(message))\n",
        "\n"
      ],
      "metadata": {
        "colab": {
          "base_uri": "https://localhost:8080/"
        },
        "id": "uLdFNZFtAPHE",
        "outputId": "2b0b55ce-1fd9-4726-f41f-1ce15d219bb8"
      },
      "execution_count": null,
      "outputs": [
        {
          "output_type": "stream",
          "name": "stdout",
          "text": [
            "enter the messageGood Morning :)\n",
            "Good Morning 😄 \n"
          ]
        }
      ]
    },
    {
      "cell_type": "code",
      "source": [
        "\"\"\"\n",
        "Exercise:\n",
        "1. Write a function to reverse a given string without using any built-in functions\n",
        "2. write a function to find largest element in a list.\n",
        "3. Write a function to check if a given year is a leap year."
      ],
      "metadata": {
        "id": "cYbJgeQ0VDLO"
      },
      "execution_count": null,
      "outputs": []
    },
    {
      "cell_type": "code",
      "source": [
        "#solution 1.\n",
        "# Function to reverse a string\n",
        "def reverse(string):\n",
        "\tstring = string[::-1]\n",
        "\treturn string\n",
        "\n",
        "s = \"Welcome to python\"\n",
        "\n",
        "print(\"The original string is : \", end=\"\")\n",
        "print(s)\n",
        "\n",
        "print(\"The reversed string(using extended slice syntax) is : \", end=\"\")\n",
        "print(reverse(s))\n"
      ],
      "metadata": {
        "colab": {
          "base_uri": "https://localhost:8080/"
        },
        "id": "Rhy5vYUWBnI2",
        "outputId": "20bde2c0-7d66-49c9-818e-dae4a0373e23"
      },
      "execution_count": null,
      "outputs": [
        {
          "output_type": "stream",
          "name": "stdout",
          "text": [
            "The original string is : Welcome to python\n",
            "The reversed string(using extended slice syntax) is : nohtyp ot emocleW\n"
          ]
        }
      ]
    },
    {
      "cell_type": "code",
      "source": [],
      "metadata": {
        "id": "FUw0cLSYBnFE"
      },
      "execution_count": null,
      "outputs": []
    },
    {
      "cell_type": "code",
      "source": [],
      "metadata": {
        "id": "Bn1lJHkmBnBD"
      },
      "execution_count": null,
      "outputs": []
    },
    {
      "cell_type": "code",
      "source": [],
      "metadata": {
        "id": "t7SUf7RaBm97"
      },
      "execution_count": null,
      "outputs": []
    },
    {
      "cell_type": "code",
      "source": [],
      "metadata": {
        "id": "7PgL3tq6Bm6Z"
      },
      "execution_count": null,
      "outputs": []
    },
    {
      "cell_type": "code",
      "source": [
        "#just a basic thing\n",
        "x = 'watching football'\n",
        "print('sajid is %s '%x)"
      ],
      "metadata": {
        "colab": {
          "base_uri": "https://localhost:8080/"
        },
        "id": "Xq75nlRezIRu",
        "outputId": "7c226a94-a787-46a5-f72e-86bc1d987767"
      },
      "execution_count": null,
      "outputs": [
        {
          "output_type": "stream",
          "name": "stdout",
          "text": [
            "sajid is watching football \n"
          ]
        }
      ]
    },
    {
      "cell_type": "code",
      "source": [],
      "metadata": {
        "id": "BPgcYKpU1Ev3"
      },
      "execution_count": null,
      "outputs": []
    }
  ]
}