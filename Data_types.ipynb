{
  "nbformat": 4,
  "nbformat_minor": 0,
  "metadata": {
    "colab": {
      "provenance": [],
      "authorship_tag": "ABX9TyNWHyp82H+sUsf10ax4r61B",
      "include_colab_link": true
    },
    "kernelspec": {
      "name": "python3",
      "display_name": "Python 3"
    },
    "language_info": {
      "name": "python"
    }
  },
  "cells": [
    {
      "cell_type": "markdown",
      "metadata": {
        "id": "view-in-github",
        "colab_type": "text"
      },
      "source": [
        "<a href=\"https://colab.research.google.com/github/syedsajidhussain/python-codes-/blob/main/Data_types.ipynb\" target=\"_parent\"><img src=\"https://colab.research.google.com/assets/colab-badge.svg\" alt=\"Open In Colab\"/></a>"
      ]
    },
    {
      "cell_type": "code",
      "execution_count": 1,
      "metadata": {
        "colab": {
          "base_uri": "https://localhost:8080/"
        },
        "id": "0mT4kXyR5iQP",
        "outputId": "9e386dbc-eb37-4c31-cb39-1e7aa522b689"
      },
      "outputs": [
        {
          "output_type": "stream",
          "name": "stdout",
          "text": [
            "welcome to the data types\n"
          ]
        }
      ],
      "source": [
        "print(\"welcome to the data types\")"
      ]
    },
    {
      "cell_type": "markdown",
      "source": [
        "**Integer**\n"
      ],
      "metadata": {
        "id": "zMUHWwKs5zt8"
      }
    },
    {
      "cell_type": "code",
      "source": [
        "a= 2\n",
        "print(type(a))"
      ],
      "metadata": {
        "colab": {
          "base_uri": "https://localhost:8080/"
        },
        "id": "cvG744L057sx",
        "outputId": "a7aced8b-eef3-4603-b0f4-20fcea82e1f8"
      },
      "execution_count": 2,
      "outputs": [
        {
          "output_type": "stream",
          "name": "stdout",
          "text": [
            "<class 'int'>\n"
          ]
        }
      ]
    },
    {
      "cell_type": "code",
      "source": [
        "a=2222232323232332\n",
        "print(type(a))"
      ],
      "metadata": {
        "colab": {
          "base_uri": "https://localhost:8080/"
        },
        "id": "AaX56lVP6cFl",
        "outputId": "81b851f0-b0a7-4a20-d78f-2511251bebb4"
      },
      "execution_count": 3,
      "outputs": [
        {
          "output_type": "stream",
          "name": "stdout",
          "text": [
            "<class 'int'>\n"
          ]
        }
      ]
    },
    {
      "cell_type": "markdown",
      "source": [
        "**Float**\n"
      ],
      "metadata": {
        "id": "3paR4ZmJ6n9g"
      }
    },
    {
      "cell_type": "code",
      "source": [
        "a= 2.5\n",
        "print(type(a))"
      ],
      "metadata": {
        "colab": {
          "base_uri": "https://localhost:8080/"
        },
        "id": "eCjECRxd5x_r",
        "outputId": "9299f809-f798-4c94-d3c3-297f7d829034"
      },
      "execution_count": 4,
      "outputs": [
        {
          "output_type": "stream",
          "name": "stdout",
          "text": [
            "<class 'float'>\n"
          ]
        }
      ]
    },
    {
      "cell_type": "code",
      "source": [
        "a= .5\n",
        "print(type(a))"
      ],
      "metadata": {
        "colab": {
          "base_uri": "https://localhost:8080/"
        },
        "id": "INi0dG3e69PW",
        "outputId": "56227ee5-8fea-4f59-ebf5-fc8971df580d"
      },
      "execution_count": 5,
      "outputs": [
        {
          "output_type": "stream",
          "name": "stdout",
          "text": [
            "<class 'float'>\n"
          ]
        }
      ]
    },
    {
      "cell_type": "code",
      "source": [
        "x = 35e3\n",
        "y = 12E4\n",
        "z = -87.7e100\n",
        "print(type(x))\n",
        "print(type(y))\n",
        "print(type(z))"
      ],
      "metadata": {
        "colab": {
          "base_uri": "https://localhost:8080/"
        },
        "id": "HeFr78XW7Ghw",
        "outputId": "4fea6f48-a6ea-4706-d2a7-4c5740aa0a3b"
      },
      "execution_count": 6,
      "outputs": [
        {
          "output_type": "stream",
          "name": "stdout",
          "text": [
            "<class 'float'>\n",
            "<class 'float'>\n",
            "<class 'float'>\n"
          ]
        }
      ]
    },
    {
      "cell_type": "markdown",
      "source": [
        "**Boolean:\n",
        "Objects of Boolean type may have one of two values, True or False**"
      ],
      "metadata": {
        "id": "4HCwGKMD7mOh"
      }
    },
    {
      "cell_type": "code",
      "source": [
        "print(type(True))\n",
        "\n",
        "print(type(False))"
      ],
      "metadata": {
        "colab": {
          "base_uri": "https://localhost:8080/"
        },
        "id": "kx6hREbJ7edm",
        "outputId": "792d180c-0e7e-41ca-d0fc-e9993b1b1439"
      },
      "execution_count": 7,
      "outputs": [
        {
          "output_type": "stream",
          "name": "stdout",
          "text": [
            "<class 'bool'>\n",
            "<class 'bool'>\n"
          ]
        }
      ]
    },
    {
      "cell_type": "markdown",
      "source": [
        "**String:\n",
        "1. Strings in Python are identified as a contiguous set of characters represented in the quotation marks. Python allows for either pairs of single or double quotes.\n",
        "• 'hello' is the same as \"hello\".\n",
        "• Strings can be output to screen using the print function.**"
      ],
      "metadata": {
        "id": "DQPeG4Ha8Fb4"
      }
    },
    {
      "cell_type": "code",
      "source": [
        "print('hello')\n",
        "type('hello')"
      ],
      "metadata": {
        "colab": {
          "base_uri": "https://localhost:8080/"
        },
        "id": "WRq5swnH8Jxi",
        "outputId": "38c6fe55-107a-4675-eaaa-34a51a3e0ebf"
      },
      "execution_count": 10,
      "outputs": [
        {
          "output_type": "stream",
          "name": "stdout",
          "text": [
            "hello\n"
          ]
        },
        {
          "output_type": "execute_result",
          "data": {
            "text/plain": [
              "str"
            ]
          },
          "metadata": {},
          "execution_count": 10
        }
      ]
    },
    {
      "cell_type": "markdown",
      "source": [
        "**Suppressing Special Character:**"
      ],
      "metadata": {
        "id": "xm0vb_61ADBj"
      }
    },
    {
      "cell_type": "code",
      "source": [
        "#supperesing the .... meaning\n",
        "print('a\\\n",
        "....b')\n"
      ],
      "metadata": {
        "colab": {
          "base_uri": "https://localhost:8080/"
        },
        "id": "V6V8B7Lj-A_g",
        "outputId": "dc88f219-16ca-492f-a339-7e7b678a5842"
      },
      "execution_count": 13,
      "outputs": [
        {
          "output_type": "stream",
          "name": "stdout",
          "text": [
            "a....b\n"
          ]
        }
      ]
    },
    {
      "cell_type": "code",
      "source": [
        "#supperesing the white spaces\n",
        "print('a\\ b\\\n",
        "c')"
      ],
      "metadata": {
        "colab": {
          "base_uri": "https://localhost:8080/"
        },
        "id": "zX3uCS5EAVWI",
        "outputId": "69e24aaa-a1bd-4e9c-8915-c4a237bff751"
      },
      "execution_count": 15,
      "outputs": [
        {
          "output_type": "stream",
          "name": "stdout",
          "text": [
            "a\\ bc\n"
          ]
        }
      ]
    },
    {
      "cell_type": "code",
      "source": [
        "#new line\n",
        "print('a \\n b')\n",
        "print(\"mrcet \\n college\")"
      ],
      "metadata": {
        "colab": {
          "base_uri": "https://localhost:8080/"
        },
        "id": "AsR5M2oqAyC0",
        "outputId": "bf25256c-7505-40b1-f1ff-9e8ef39fa75f"
      },
      "execution_count": 16,
      "outputs": [
        {
          "output_type": "stream",
          "name": "stdout",
          "text": [
            "a \n",
            " b\n",
            "mrcet \n",
            " college\n"
          ]
        }
      ]
    },
    {
      "cell_type": "code",
      "source": [
        "#tabs\n",
        "print(\"a\\tb\")\n"
      ],
      "metadata": {
        "colab": {
          "base_uri": "https://localhost:8080/"
        },
        "id": "4fzZxDTWBDO2",
        "outputId": "ba4f73dd-39d4-415f-fc43-b0ddec23c788"
      },
      "execution_count": 17,
      "outputs": [
        {
          "output_type": "stream",
          "name": "stdout",
          "text": [
            "a\tb\n"
          ]
        }
      ]
    },
    {
      "cell_type": "code",
      "source": [],
      "metadata": {
        "id": "qTG1W885BLd_"
      },
      "execution_count": null,
      "outputs": []
    },
    {
      "cell_type": "code",
      "source": [],
      "metadata": {
        "id": "0e98lo9hAwe8"
      },
      "execution_count": null,
      "outputs": []
    }
  ]
}