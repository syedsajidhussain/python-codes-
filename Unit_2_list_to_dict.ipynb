{
  "nbformat": 4,
  "nbformat_minor": 0,
  "metadata": {
    "colab": {
      "provenance": [],
      "authorship_tag": "ABX9TyO2KNPALHrKaTb1YYENwpx/",
      "include_colab_link": true
    },
    "kernelspec": {
      "name": "python3",
      "display_name": "Python 3"
    },
    "language_info": {
      "name": "python"
    }
  },
  "cells": [
    {
      "cell_type": "markdown",
      "metadata": {
        "id": "view-in-github",
        "colab_type": "text"
      },
      "source": [
        "<a href=\"https://colab.research.google.com/github/syedsajidhussain/python-codes-/blob/main/Unit_2_list_to_dict.ipynb\" target=\"_parent\"><img src=\"https://colab.research.google.com/assets/colab-badge.svg\" alt=\"Open In Colab\"/></a>"
      ]
    },
    {
      "cell_type": "markdown",
      "source": [
        "**Lists**"
      ],
      "metadata": {
        "id": "zXpicbAwUfM1"
      }
    },
    {
      "cell_type": "code",
      "source": [
        "names = [\"sajid\", \"nadeem\" ,\"touseef\", \"shahid\", \"Ram\"]\n",
        "print(names[0])     #sajid\n",
        "print(names[-4])   #nadeem\n",
        "names[2] = \"tia\"   #replace the name at index 2 with tia\n",
        "print(names)\n",
        "\n",
        "print(names[0:3])    #sajid, nadeem tia\n",
        "\n",
        "names.append(\"Ajay\")\n",
        "print(names)    #\"sajid\", \"nadeem\" ,\"tia\", \"shahid\", \"Ram\", \"Ajay\"\n",
        "\n",
        "names.insert(0, \"Rama\")\n",
        "print(names)   #\"Rama\",\"sajid\", \"nadeem\" ,\"tia\", \"shahid\", \"Ram\", \"Ajay\"\n",
        "\n",
        "names.remove(\"nadeem\")\n",
        "print(names)\n",
        "\n",
        "print(\"sajid\" in names)\n",
        "\n",
        "print(len(names)) #6\n",
        "\n",
        "names.clear()\n",
        "print(names)  #[]\n",
        "\n",
        "\n",
        "\n",
        "\n",
        "\n"
      ],
      "metadata": {
        "id": "5fMHWFXJUSzg",
        "colab": {
          "base_uri": "https://localhost:8080/"
        },
        "outputId": "58c3edd7-906a-493f-fcf2-1b0acba1506b"
      },
      "execution_count": null,
      "outputs": [
        {
          "output_type": "stream",
          "name": "stdout",
          "text": [
            "sajid\n",
            "nadeem\n",
            "['sajid', 'nadeem', 'tia', 'shahid', 'Ram']\n",
            "['sajid', 'nadeem', 'tia']\n",
            "['sajid', 'nadeem', 'tia', 'shahid', 'Ram', 'Ajay']\n",
            "['Rama', 'sajid', 'nadeem', 'tia', 'shahid', 'Ram', 'Ajay']\n",
            "['Rama', 'sajid', 'tia', 'shahid', 'Ram', 'Ajay']\n",
            "True\n",
            "6\n",
            "[]\n"
          ]
        }
      ]
    },
    {
      "cell_type": "code",
      "source": [
        "num_list = [1,2,3,4,5,6 ]\n",
        "for i in num_list:\n",
        "  print(i)\n",
        "\n",
        "\n",
        "\n",
        "\n",
        "i = 1\n",
        "while i <= len(numbers):\n",
        "  print(i)\n",
        "  i =i + 1\n",
        "\n",
        "\n",
        "\n",
        "\n"
      ],
      "metadata": {
        "id": "MhaJOEW0WEIj"
      },
      "execution_count": null,
      "outputs": []
    },
    {
      "cell_type": "code",
      "source": [
        "L1 =[1,2,3,4,5,6,7,0]\n",
        "all(L1)\n",
        "any(L1)\n",
        "L2 =[1,2,3,4,5,6,7,False]\n",
        "any(L1)\n",
        "all(L1)"
      ],
      "metadata": {
        "id": "_pbZARUfMZSD"
      },
      "execution_count": null,
      "outputs": []
    },
    {
      "cell_type": "markdown",
      "source": [
        "**List comprehension**"
      ],
      "metadata": {
        "id": "w0bCbnV1Nqsc"
      }
    },
    {
      "cell_type": "code",
      "source": [],
      "metadata": {
        "id": "LpIjBcYpdCBf"
      },
      "execution_count": null,
      "outputs": []
    },
    {
      "cell_type": "code",
      "source": [],
      "metadata": {
        "id": "OEU2pLHldB-9"
      },
      "execution_count": null,
      "outputs": []
    },
    {
      "cell_type": "code",
      "source": [],
      "metadata": {
        "id": "DXNRYoQEdB7o"
      },
      "execution_count": null,
      "outputs": []
    },
    {
      "cell_type": "code",
      "source": [],
      "metadata": {
        "id": "B2Bg00POdB4O"
      },
      "execution_count": null,
      "outputs": []
    },
    {
      "cell_type": "code",
      "source": [],
      "metadata": {
        "id": "DxSuAvGddB1Y"
      },
      "execution_count": null,
      "outputs": []
    },
    {
      "cell_type": "code",
      "source": [],
      "metadata": {
        "id": "jpHe1ZN-dBx-"
      },
      "execution_count": null,
      "outputs": []
    },
    {
      "cell_type": "code",
      "source": [],
      "metadata": {
        "id": "k6ztI-gjdBsf"
      },
      "execution_count": null,
      "outputs": []
    },
    {
      "cell_type": "code",
      "source": [],
      "metadata": {
        "id": "3LnUxxlFdBI_"
      },
      "execution_count": null,
      "outputs": []
    },
    {
      "cell_type": "code",
      "source": [
        "my_name = \"Sajid\"\n",
        "list1 = [i for i in my_name]\n",
        "list1\n"
      ],
      "metadata": {
        "id": "4nfq-ZAbNliv"
      },
      "execution_count": null,
      "outputs": []
    },
    {
      "cell_type": "code",
      "source": [
        "my_list = [i for i in range(40) if i% 2 ==0]\n",
        "my_list"
      ],
      "metadata": {
        "colab": {
          "base_uri": "https://localhost:8080/"
        },
        "id": "rpWNmMXFOeiS",
        "outputId": "d7c7501f-1f8b-4886-c6ba-541b973c3fb2"
      },
      "execution_count": null,
      "outputs": [
        {
          "output_type": "execute_result",
          "data": {
            "text/plain": [
              "[0, 2, 4, 6, 8, 10, 12, 14, 16, 18, 20, 22, 24, 26, 28, 30, 32, 34, 36, 38]"
            ]
          },
          "metadata": {},
          "execution_count": 47
        }
      ]
    },
    {
      "cell_type": "code",
      "source": [
        "my_list2 = [num**2 for num in range(10)]\n",
        "my_list2"
      ],
      "metadata": {
        "colab": {
          "base_uri": "https://localhost:8080/"
        },
        "id": "_gFyQL5ZO2d6",
        "outputId": "ebadb2a8-deb5-4b56-c2b8-5a7c331d216d"
      },
      "execution_count": null,
      "outputs": [
        {
          "output_type": "execute_result",
          "data": {
            "text/plain": [
              "[0, 1, 4, 9, 16, 25, 36, 49, 64, 81]"
            ]
          },
          "metadata": {},
          "execution_count": 49
        }
      ]
    },
    {
      "cell_type": "code",
      "source": [
        "#extract numbers from a string\n",
        "mystr_1 =\"one 1 two 2 three 3 four 4 five 5 six 6 seven 7 8 9 \"\n",
        "numbers = [i for i in mystr_1 if i.isdigit()]\n",
        "numbers"
      ],
      "metadata": {
        "id": "LDrg2E6sCn4T"
      },
      "execution_count": null,
      "outputs": []
    },
    {
      "cell_type": "code",
      "source": [
        "#extract letters from a string\n",
        "mystr_2 =\"one 1 two 2 three 3 four 4 five 5 six 6 seven 7 8 9 \"\n",
        "letters = [i for i in mystr_2 if i.isalpha()]\n",
        "letters"
      ],
      "metadata": {
        "id": "HYbp6XbODfy8"
      },
      "execution_count": null,
      "outputs": []
    },
    {
      "cell_type": "code",
      "source": [],
      "metadata": {
        "id": "vGND7rrjDCyB"
      },
      "execution_count": null,
      "outputs": []
    },
    {
      "cell_type": "code",
      "source": [],
      "metadata": {
        "id": "ca3YO2mhDCuu"
      },
      "execution_count": null,
      "outputs": []
    },
    {
      "cell_type": "code",
      "source": [],
      "metadata": {
        "id": "ahquv0D_DA3m"
      },
      "execution_count": null,
      "outputs": []
    },
    {
      "cell_type": "markdown",
      "source": [
        "range()"
      ],
      "metadata": {
        "id": "hODHt0QKbfIO"
      }
    },
    {
      "cell_type": "markdown",
      "source": [
        "**Tuple**"
      ],
      "metadata": {
        "id": "WY9PDyPmPfnz"
      }
    },
    {
      "cell_type": "code",
      "source": [
        "tuple_1 = (1,2,3,4,5,6,7,8,'sajid', 'shahid')\n",
        "tuple_1[0]\n",
        "tuple_1[-1]\n",
        "tuple_1[0:3]\n",
        "tuple_1[-3:]\n",
        "tuple_1[:]\n",
        "\n",
        "#del mytuple[0]\n",
        "#mytuple[0] = 1        #not poosible because tuples are immutable"
      ],
      "metadata": {
        "id": "D3vhj95iEfk_"
      },
      "execution_count": null,
      "outputs": []
    },
    {
      "cell_type": "code",
      "source": [
        "tuple = (1,2,3,4,5,6,7,8,'sajid', 'shahid')\n",
        "for i in tuple:\n",
        "  print(i)"
      ],
      "metadata": {
        "id": "mDBpdkl9Perf"
      },
      "execution_count": null,
      "outputs": []
    },
    {
      "cell_type": "code",
      "source": [
        "tuple1 = (1,2,3,4,5,6,7,8,'sajid', 'shahid')\n",
        "for i in enumerate(tuple1):\n",
        "  print(i)"
      ],
      "metadata": {
        "id": "_qNVIZSpP-3O"
      },
      "execution_count": null,
      "outputs": []
    },
    {
      "cell_type": "code",
      "source": [
        "tuple1.count(1) #occurences of 1\n"
      ],
      "metadata": {
        "id": "UWPd4n58P6qU"
      },
      "execution_count": null,
      "outputs": []
    },
    {
      "cell_type": "markdown",
      "source": [
        "Tuple-membership"
      ],
      "metadata": {
        "id": "tdCETd2rU_Ty"
      }
    },
    {
      "cell_type": "code",
      "source": [
        "tuple_1 = (1,2,3,4,5,6,7,8,'sajid', 'shahid')\n",
        "1 in tuple_1"
      ],
      "metadata": {
        "colab": {
          "base_uri": "https://localhost:8080/"
        },
        "id": "p52K-f7ZU-jX",
        "outputId": "33ccde4f-0e95-4d4a-8657-5ad1a2bd95fd"
      },
      "execution_count": null,
      "outputs": [
        {
          "output_type": "execute_result",
          "data": {
            "text/plain": [
              "True"
            ]
          },
          "metadata": {},
          "execution_count": 11
        }
      ]
    },
    {
      "cell_type": "code",
      "source": [
        "tuple_1 = (1,2,3,4,5,6,7,8,'sajid', 'shahid')\n",
        "9 in tuple_1"
      ],
      "metadata": {
        "colab": {
          "base_uri": "https://localhost:8080/"
        },
        "id": "n7I6SV5zVU3Y",
        "outputId": "e883a071-4e3e-4340-fd73-97fa193f9abc"
      },
      "execution_count": null,
      "outputs": [
        {
          "output_type": "execute_result",
          "data": {
            "text/plain": [
              "False"
            ]
          },
          "metadata": {},
          "execution_count": 12
        }
      ]
    },
    {
      "cell_type": "code",
      "source": [
        "if 3 in tuple_1:\n",
        "  print(\"three exists in the above tuple \")\n",
        "else:\n",
        "  print(\"three doesn't exist in the above tuple \")\n"
      ],
      "metadata": {
        "colab": {
          "base_uri": "https://localhost:8080/"
        },
        "id": "OR44kr8JVcyR",
        "outputId": "8a4a0855-c2f1-42be-9595-f0a45b030840"
      },
      "execution_count": null,
      "outputs": [
        {
          "output_type": "stream",
          "name": "stdout",
          "text": [
            "three exists in the above tuple \n"
          ]
        }
      ]
    },
    {
      "cell_type": "markdown",
      "source": [
        "**Strings**"
      ],
      "metadata": {
        "id": "xvhyv2yZ3i5X"
      }
    },
    {
      "cell_type": "code",
      "source": [
        "#concat\n",
        "a='sajid '\n",
        "b = 'shahid'\n",
        "c = a+b\n",
        "print(\"the concatenated string is: \", c )\n",
        "\n",
        "#multiply\n",
        "print(a * 3)"
      ],
      "metadata": {
        "id": "jrToqF-DZNjs",
        "colab": {
          "base_uri": "https://localhost:8080/"
        },
        "outputId": "77a8c063-1482-46de-9e7a-1d001d50e2ee"
      },
      "execution_count": null,
      "outputs": [
        {
          "output_type": "stream",
          "name": "stdout",
          "text": [
            "the concatenated string is:  sajid shahid\n",
            "sajid sajid sajid \n"
          ]
        }
      ]
    },
    {
      "cell_type": "code",
      "source": [
        "#append\n",
        "str1 =\"hello \"\n",
        "print(id(str1))\n",
        "name = input(\"enter your name \")\n",
        "str1 += name\n",
        "print(id(str1))\n",
        "print(str1)"
      ],
      "metadata": {
        "id": "JzKI4ciBRzX8",
        "colab": {
          "base_uri": "https://localhost:8080/"
        },
        "outputId": "7151eef1-3bd2-4445-ac54-3ec0684bff0e"
      },
      "execution_count": null,
      "outputs": [
        {
          "output_type": "stream",
          "name": "stdout",
          "text": [
            "132966900161520\n",
            "enter your name sajid\n",
            "132967346964336\n",
            "hello sajid\n"
          ]
        }
      ]
    },
    {
      "cell_type": "code",
      "source": [
        "#string formatting operator\n",
        "name =\"sajid\"\n",
        "age = 30\n",
        "print(\"name = %s and age= %d\" %(name , age))"
      ],
      "metadata": {
        "colab": {
          "base_uri": "https://localhost:8080/"
        },
        "id": "NCcW6qn19OfT",
        "outputId": "2905bf97-d9c0-4dd1-b1b5-a1032be95b00"
      },
      "execution_count": null,
      "outputs": [
        {
          "output_type": "stream",
          "name": "stdout",
          "text": [
            "name = sajid and age= 30\n"
          ]
        }
      ]
    },
    {
      "cell_type": "markdown",
      "source": [
        "**Set**"
      ],
      "metadata": {
        "id": "HONgrjVuF0jx"
      }
    },
    {
      "cell_type": "code",
      "source": [
        "set1 = {1, 2.0, 'abc', 'sajid', 'Rama'}\n",
        "print(set1)"
      ],
      "metadata": {
        "id": "7KRaWJV4Nlf9",
        "colab": {
          "base_uri": "https://localhost:8080/"
        },
        "outputId": "e900a10a-6cc0-4816-ecee-4504c5f9a94f"
      },
      "execution_count": null,
      "outputs": [
        {
          "output_type": "stream",
          "name": "stdout",
          "text": [
            "{1, 2.0, 'sajid', 'Rama', 'abc'}\n"
          ]
        }
      ]
    },
    {
      "cell_type": "code",
      "source": [
        "set1 = {1, 2, 3, 4 , 5}\n",
        "set2 = {3, 5, 7, 8}\n",
        "set3 = {7, 8, 9, 10}\n",
        "\n",
        "set1 or set2\n",
        "#set1.union(set2)\n",
        "#set1.union(set2, set3)\n",
        "#set1\n"
      ],
      "metadata": {
        "colab": {
          "base_uri": "https://localhost:8080/"
        },
        "id": "1OALglHlXTQq",
        "outputId": "c94fc82d-90aa-47ed-9adf-8718f89bbf50"
      },
      "execution_count": null,
      "outputs": [
        {
          "output_type": "execute_result",
          "data": {
            "text/plain": [
              "{1, 2, 3, 4, 5, 7, 8}"
            ]
          },
          "metadata": {},
          "execution_count": 23
        }
      ]
    },
    {
      "cell_type": "code",
      "source": [
        "set1.update(set2,set3)\n",
        "set1"
      ],
      "metadata": {
        "colab": {
          "base_uri": "https://localhost:8080/"
        },
        "id": "2keU2LH4YBxJ",
        "outputId": "5b9a7aff-d0a3-4567-ad53-160faf4fc35b"
      },
      "execution_count": null,
      "outputs": [
        {
          "output_type": "execute_result",
          "data": {
            "text/plain": [
              "{1, 2, 3, 4, 5, 7, 8, 9, 10}"
            ]
          },
          "metadata": {},
          "execution_count": 20
        }
      ]
    },
    {
      "cell_type": "code",
      "source": [
        "set1 & set2\n",
        "#same as      set1.intersection(set2)\n",
        "#set1.intersection_update(set2)\n",
        "#set1"
      ],
      "metadata": {
        "id": "AhcgWbLAZebR"
      },
      "execution_count": null,
      "outputs": []
    },
    {
      "cell_type": "markdown",
      "source": [
        "difference"
      ],
      "metadata": {
        "id": "n1pNZ7vka2XQ"
      }
    },
    {
      "cell_type": "code",
      "source": [
        "set1 = {1, 2, 3, 4 , 5}\n",
        "set2 = {3, 5, 7, 8}\n",
        "\n",
        "set1-set2"
      ],
      "metadata": {
        "colab": {
          "base_uri": "https://localhost:8080/"
        },
        "id": "BMo7Wx8ea38U",
        "outputId": "ee7ac7ea-f4d2-439d-f16e-60ca9a2049ce"
      },
      "execution_count": null,
      "outputs": [
        {
          "output_type": "execute_result",
          "data": {
            "text/plain": [
              "{1, 2, 4}"
            ]
          },
          "metadata": {},
          "execution_count": 28
        }
      ]
    },
    {
      "cell_type": "markdown",
      "source": [
        "subset, superset & Disjoint"
      ],
      "metadata": {
        "id": "SR52M-evbhZI"
      }
    },
    {
      "cell_type": "code",
      "source": [
        "a ={1,2,3,4,5,6,7,8,9}\n",
        "b = {3,4,5,6,7}\n",
        "c = {10,20,30,40}\n",
        "b.issubset(a)"
      ],
      "metadata": {
        "id": "axD3-YXXZ2Yd"
      },
      "execution_count": null,
      "outputs": []
    },
    {
      "cell_type": "markdown",
      "source": [
        "**Dictionary**"
      ],
      "metadata": {
        "id": "VutsHQo3GmOQ"
      }
    },
    {
      "cell_type": "code",
      "source": [
        "dict = {'sap-id' : 40004007,\n",
        "        'name' : 'sajid',\n",
        "          'qual' :'PhD',\n",
        "        'dept' : 'socs'}\n",
        "print(dict)\n",
        "print(dict['sap-id']) # value of the key 40004007\n",
        "print(dict['qual'])  # PhD\n",
        "dict['experience']= '7 years' #adding or modifying\n",
        "print(dict)\n",
        "\n",
        "#modification\n",
        "dict['dept']= 'EIED'\n",
        "print(dict)\n"
      ],
      "metadata": {
        "id": "VWM_Vr7ccmIJ",
        "colab": {
          "base_uri": "https://localhost:8080/"
        },
        "outputId": "5ddb6d14-cf17-49d5-ea0b-93d65bf96f3c"
      },
      "execution_count": null,
      "outputs": [
        {
          "output_type": "stream",
          "name": "stdout",
          "text": [
            "{'sap-id': 40004007, 'name': 'sajid', 'qual': 'PhD', 'dept': 'socs'}\n",
            "40004007\n",
            "PhD\n",
            "{'sap-id': 40004007, 'name': 'sajid', 'qual': 'PhD', 'dept': 'socs', 'experience': '7 years'}\n",
            "{'sap-id': 40004007, 'name': 'sajid', 'qual': 'PhD', 'dept': 'EIED', 'experience': '7 years'}\n"
          ]
        }
      ]
    },
    {
      "cell_type": "code",
      "source": [],
      "metadata": {
        "id": "5IurBDa3J6M3"
      },
      "execution_count": null,
      "outputs": []
    }
  ]
}