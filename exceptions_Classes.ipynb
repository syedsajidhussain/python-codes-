{
  "nbformat": 4,
  "nbformat_minor": 0,
  "metadata": {
    "colab": {
      "provenance": [],
      "authorship_tag": "ABX9TyOPaw9fAnAz3YnP7/9ZKAQy",
      "include_colab_link": true
    },
    "kernelspec": {
      "name": "python3",
      "display_name": "Python 3"
    },
    "language_info": {
      "name": "python"
    }
  },
  "cells": [
    {
      "cell_type": "markdown",
      "metadata": {
        "id": "view-in-github",
        "colab_type": "text"
      },
      "source": [
        "<a href=\"https://colab.research.google.com/github/syedsajidhussain/python-codes-/blob/main/exceptions_Classes.ipynb\" target=\"_parent\"><img src=\"https://colab.research.google.com/assets/colab-badge.svg\" alt=\"Open In Colab\"/></a>"
      ]
    },
    {
      "cell_type": "code",
      "execution_count": null,
      "metadata": {
        "id": "qmds6pSVHZU7"
      },
      "outputs": [],
      "source": [
        "import time\n",
        "for i in range(10):\n",
        "  time.sleep(1)\n",
        "  print(i)\n"
      ]
    },
    {
      "cell_type": "code",
      "source": [
        "try:\n",
        "  age= int(input(\"enter your age:\"))\n",
        "  print(age)\n",
        "\n",
        "except Exception as e:\n",
        "  print(\"enter the number only\", e)"
      ],
      "metadata": {
        "id": "yOWUdfGUJGM1"
      },
      "execution_count": null,
      "outputs": []
    },
    {
      "cell_type": "code",
      "source": [
        "a=10\n",
        "b=0\n",
        "try:\n",
        "  print(\"file open\")\n",
        "  print(a/b)\n",
        "\n",
        "except Exception as e:\n",
        "  print(\"please check\", e)\n",
        "  print(\"file closes\")\n",
        "\n",
        "finally:\n",
        "  print(\"file closes\")\n"
      ],
      "metadata": {
        "colab": {
          "base_uri": "https://localhost:8080/"
        },
        "id": "PSXPCR_kM192",
        "outputId": "f60ceed3-133a-47b7-8dcf-2efd5d890b83"
      },
      "execution_count": null,
      "outputs": [
        {
          "output_type": "stream",
          "name": "stdout",
          "text": [
            "file open\n",
            "please check division by zero\n",
            "file closes\n",
            "file closes\n"
          ]
        }
      ]
    },
    {
      "cell_type": "markdown",
      "source": [
        "**Classes and objects**"
      ],
      "metadata": {
        "id": "hxm6cxGsoUiW"
      }
    },
    {
      "cell_type": "code",
      "source": [
        "class Computer:\n",
        "\n",
        "  def type1(self):\n",
        "    print(\"laptop or desktop\")\n",
        "  def usage1(self):\n",
        "    print(\"for writing code\")\n",
        "\n",
        "d1 = Computer()\n",
        "print(type(d1))\n",
        "d1.usage1()"
      ],
      "metadata": {
        "colab": {
          "base_uri": "https://localhost:8080/"
        },
        "id": "6pJrPgSpoUB-",
        "outputId": "6be26c48-c3d2-4338-dc5d-d6dba7760566"
      },
      "execution_count": null,
      "outputs": [
        {
          "output_type": "stream",
          "name": "stdout",
          "text": [
            "<class '__main__.Computer'>\n",
            "for writing code\n"
          ]
        }
      ]
    },
    {
      "cell_type": "markdown",
      "source": [
        "**self**"
      ],
      "metadata": {
        "id": "jG1H_c51BeMn"
      }
    },
    {
      "cell_type": "code",
      "source": [
        "class Rectangle:\n",
        "    def __init__(self, width, height):\n",
        "        self.width = width\n",
        "        self.height = height\n",
        "\n",
        "    def area(self):\n",
        "        return self.width * self.height\n",
        "\n",
        "# creating a rectangle object and calling its area method\n",
        "rect = Rectangle(4, 5)\n",
        "print(rect.area())"
      ],
      "metadata": {
        "id": "9v0VYKgSBdp5"
      },
      "execution_count": null,
      "outputs": []
    },
    {
      "cell_type": "code",
      "source": [
        "class Complex:\n",
        "    def abc(self, realpart, imagpart):\n",
        "        self.r = realpart\n",
        "        self.i = imagpart\n",
        "\n",
        "x = Complex()\n",
        "x.abc(3.0, -4.5)\n",
        "x.r, x.i"
      ],
      "metadata": {
        "colab": {
          "base_uri": "https://localhost:8080/"
        },
        "id": "kI_b2pTQ_UCM",
        "outputId": "5ff90cb3-155f-403f-fc7b-abaeef6f48b9"
      },
      "execution_count": null,
      "outputs": [
        {
          "output_type": "execute_result",
          "data": {
            "text/plain": [
              "(3.0, -4.5)"
            ]
          },
          "metadata": {},
          "execution_count": 4
        }
      ]
    },
    {
      "cell_type": "code",
      "source": [
        "class Complex:\n",
        "    def __init__(self, realpart, imagpart):\n",
        "        self.r = realpart\n",
        "        self.i = imagpart\n",
        "\n",
        "x = Complex(3.0, -4.5)\n",
        "x.r, x.i"
      ],
      "metadata": {
        "colab": {
          "base_uri": "https://localhost:8080/"
        },
        "id": "otzWWamx_NmO",
        "outputId": "d94cc733-681d-4441-ee00-93ead170276d"
      },
      "execution_count": null,
      "outputs": [
        {
          "output_type": "execute_result",
          "data": {
            "text/plain": [
              "(3.0, -4.5)"
            ]
          },
          "metadata": {},
          "execution_count": 2
        }
      ]
    },
    {
      "cell_type": "code",
      "source": [
        "class Warehouse:\n",
        "   purpose = 'storage'\n",
        "   region = 'west'\n",
        "\n",
        "w1 = Warehouse()\n",
        "print(w1.purpose, w1.region)\n",
        "#storage west\n",
        "w2 = Warehouse()\n",
        "w2.region = 'east'\n",
        "print(w2.purpose, w2.region)"
      ],
      "metadata": {
        "colab": {
          "base_uri": "https://localhost:8080/"
        },
        "id": "K_rJG9WtEEgR",
        "outputId": "342df1ed-5e2b-4aa9-ade3-8b69ff17083a"
      },
      "execution_count": null,
      "outputs": [
        {
          "output_type": "stream",
          "name": "stdout",
          "text": [
            "storage west\n",
            "storage east\n"
          ]
        }
      ]
    },
    {
      "cell_type": "code",
      "source": [],
      "metadata": {
        "id": "HyA9TDIjGPP5"
      },
      "execution_count": null,
      "outputs": []
    },
    {
      "cell_type": "code",
      "source": [
        "class myFirst:\n",
        "    def first(self): # here\n",
        "        flag=0\n",
        "        phonebook = {\n",
        "            \"A\" : 938477566,\n",
        "            \"B\" : 938377264,\n",
        "            \"C\" : 947662781\n",
        "        }\n",
        "        # testing code\n",
        "        if \"A\" in phonebook:\n",
        "            flag=1\n",
        "        #if \"D\" not in phonebook:\n",
        "           # flag = 0\n",
        "        return flag\n",
        "\n",
        "myclassObj = myFirst()\n",
        "status = myclassObj.first()\n",
        "\n",
        "if status == 1:\n",
        "    print (\"Pass\")\n",
        "else:\n",
        "    print (\"fail\")"
      ],
      "metadata": {
        "id": "CaQ4DWeubPYL",
        "colab": {
          "base_uri": "https://localhost:8080/"
        },
        "outputId": "1c23735a-e440-4eaa-f4dc-33181862ca74"
      },
      "execution_count": null,
      "outputs": [
        {
          "output_type": "stream",
          "name": "stdout",
          "text": [
            "Pass\n"
          ]
        }
      ]
    },
    {
      "cell_type": "code",
      "source": [],
      "metadata": {
        "id": "N5iHKODlId-F"
      },
      "execution_count": null,
      "outputs": []
    },
    {
      "cell_type": "code",
      "source": [
        "class Person:\n",
        "  name='sajid'\n",
        "  department='socs'\n",
        "\n",
        "  def info(self):\n",
        "    print(self.name, self.department)\n",
        "\n",
        "  def address(self, city):\n",
        "    print(self.name, self.department, city)\n",
        "\n",
        "a=Person()\n",
        "#a1= Person()\n",
        "print(a.name, a.department)\n",
        "a.info()\n",
        "city='srinagar'\n",
        "a.address(city)\n"
      ],
      "metadata": {
        "colab": {
          "base_uri": "https://localhost:8080/"
        },
        "id": "kjA24vcGIaN_",
        "outputId": "12cbce0a-a525-42ed-ac9b-6a52f5f173bf"
      },
      "execution_count": null,
      "outputs": [
        {
          "output_type": "stream",
          "name": "stdout",
          "text": [
            "sajid socs\n",
            "sajid socs\n",
            "sajid socs srinagar\n"
          ]
        }
      ]
    },
    {
      "cell_type": "code",
      "source": [
        "class Person:\n",
        "  def __init__(self,name,department):\n",
        "    self.name=name\n",
        "    self.department=department\n",
        "\n",
        "  def info(self):\n",
        "    print(self.name, self.department)\n",
        "\n",
        "  def address(self, city):\n",
        "    print(self.name, self.department, city)\n",
        "\n",
        "a=Person('nadeem', 'socs')\n",
        "print(a)\n",
        "#a1= Person()\n",
        "print(a.name, a.department)\n",
        "a.info()\n",
        "city='srinagar'\n",
        "a.address(city)"
      ],
      "metadata": {
        "colab": {
          "base_uri": "https://localhost:8080/"
        },
        "id": "PFG5gV8AOzda",
        "outputId": "e19d5be5-c0a3-4e56-ac25-f4e4f5be331e"
      },
      "execution_count": null,
      "outputs": [
        {
          "output_type": "stream",
          "name": "stdout",
          "text": [
            "<__main__.Person object at 0x7f83c271fca0>\n",
            "nadeem socs\n",
            "nadeem socs\n",
            "nadeem socs srinagar\n"
          ]
        }
      ]
    },
    {
      "cell_type": "code",
      "source": [
        "class Car:\n",
        "  colour='white'\n",
        "  type='sedan'\n",
        "  def car_func(self, type):\n",
        "    print(type)\n",
        "\n",
        "c1=Car()\n",
        "a='suv'\n",
        "c1.car_func(a)\n"
      ],
      "metadata": {
        "colab": {
          "base_uri": "https://localhost:8080/"
        },
        "id": "aqN3E073JfrD",
        "outputId": "5979826d-d54c-4fe3-f997-1c4393df8799"
      },
      "execution_count": null,
      "outputs": [
        {
          "output_type": "stream",
          "name": "stdout",
          "text": [
            "suv\n"
          ]
        }
      ]
    },
    {
      "cell_type": "code",
      "source": [
        "class Car:\n",
        "  def __init__(self, colour, type):\n",
        "    self.colour=colour\n",
        "    self.type = type\n",
        "    print(self.colour, self.type)\n",
        "\n",
        "  def car_func(self, type):\n",
        "    print(type)\n",
        "\n",
        "c1=Car('white', 'sedan')\n",
        "a='suv'\n",
        "c1.car_func(a)"
      ],
      "metadata": {
        "colab": {
          "base_uri": "https://localhost:8080/"
        },
        "id": "xhB0yz0HSti8",
        "outputId": "0aa21d96-7229-4ed8-be09-4eb4d29b7572"
      },
      "execution_count": null,
      "outputs": [
        {
          "output_type": "stream",
          "name": "stdout",
          "text": [
            "white sedan\n",
            "suv\n"
          ]
        }
      ]
    },
    {
      "cell_type": "code",
      "source": [],
      "metadata": {
        "id": "YLqd0sStVE2H"
      },
      "execution_count": null,
      "outputs": []
    }
  ]
}