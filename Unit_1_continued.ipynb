{
  "nbformat": 4,
  "nbformat_minor": 0,
  "metadata": {
    "colab": {
      "provenance": [],
      "authorship_tag": "ABX9TyOatgc0GPi2/0XPHVKzmaGL",
      "include_colab_link": true
    },
    "kernelspec": {
      "name": "python3",
      "display_name": "Python 3"
    },
    "language_info": {
      "name": "python"
    }
  },
  "cells": [
    {
      "cell_type": "markdown",
      "metadata": {
        "id": "view-in-github",
        "colab_type": "text"
      },
      "source": [
        "<a href=\"https://colab.research.google.com/github/syedsajidhussain/python-codes-/blob/main/Unit_1_continued.ipynb\" target=\"_parent\"><img src=\"https://colab.research.google.com/assets/colab-badge.svg\" alt=\"Open In Colab\"/></a>"
      ]
    },
    {
      "cell_type": "markdown",
      "source": [
        " **Logical Operators: and, or, not**\n"
      ],
      "metadata": {
        "id": "70OKfl2tKT1o"
      }
    },
    {
      "cell_type": "code",
      "execution_count": null,
      "metadata": {
        "id": "rtwEjj50H8BL"
      },
      "outputs": [],
      "source": [
        "#example\n",
        "\n",
        "temp = 35\n",
        "print(temp > 10 and temp < 40) #and\n",
        "print(temp < 10 or temp < 40)\n",
        "print(not temp < 15)"
      ]
    },
    {
      "cell_type": "markdown",
      "source": [
        "*if else statements*"
      ],
      "metadata": {
        "id": "vY1jpJ9INcZa"
      }
    },
    {
      "cell_type": "code",
      "source": [
        "temperature = 35\n",
        "if temperature > 30:\n",
        "  print(\"it's is hot day\")\n",
        "  print(\"Drink plenty of water\")\n",
        "elif temperature > 20:                               #(20,30]\n",
        "  print(\"it is a nice day!!\")\n",
        "elif temperature > 10:                               #(10,20]\n",
        "  print(\"it is a bit colder\")\n",
        "else:\n",
        "  print(\"it is colder\")\n",
        "print(\"Enjoy\")\n"
      ],
      "metadata": {
        "id": "MFkcFi3ELNTi"
      },
      "execution_count": null,
      "outputs": []
    },
    {
      "cell_type": "markdown",
      "source": [
        "**Question**: Write a python code for weight conversion(in Kg and Lbs)"
      ],
      "metadata": {
        "id": "vzSqdrcMOpwq"
      }
    },
    {
      "cell_type": "code",
      "source": [
        "weight = float(input(\"weight\"))\n",
        "unit = input(\"(K)g or (L)bs:\")\n",
        "if unit == \"K\":\n",
        "  converted = weight / 0.45\n",
        "  print(\"weight in Lbs:\" + str(converted))\n",
        "else:\n",
        "  converted = weight * 0.45\n",
        "  print(\"weight in Lbs:\" + str(converted))"
      ],
      "metadata": {
        "id": "pxK2SJ-lPCMn",
        "colab": {
          "base_uri": "https://localhost:8080/"
        },
        "outputId": "ab392f38-44f9-43e3-d91f-b06ff5b4468c"
      },
      "execution_count": null,
      "outputs": [
        {
          "output_type": "stream",
          "name": "stdout",
          "text": [
            "weight20\n",
            "(K)g or (L)bs:k\n",
            "weight in Lbs:9.0\n"
          ]
        }
      ]
    },
    {
      "cell_type": "markdown",
      "source": [
        "**While loops**"
      ],
      "metadata": {
        "id": "39CkVMLSS77f"
      }
    },
    {
      "cell_type": "code",
      "source": [
        "i = 1\n",
        "while(i <=10):\n",
        "  print(i * '*')\n",
        "  i = i+1\n"
      ],
      "metadata": {
        "id": "v1FSdGoZSzKi"
      },
      "execution_count": null,
      "outputs": []
    },
    {
      "cell_type": "markdown",
      "source": [
        "*Guess Game:*"
      ],
      "metadata": {
        "id": "s0aybl7XuWKU"
      }
    },
    {
      "cell_type": "code",
      "source": [
        "Sec_num = 5\n",
        "guess_count = 0\n",
        "guess_limit = 3\n",
        "while guess_count < guess_limit:\n",
        "  guess =int(input('Guess: '))\n",
        "  guess_count += 1\n",
        "  if guess == Sec_num:\n",
        "    print(\"Correct\")\n",
        "    break\n",
        "else:\n",
        "    print(\"sorry, You failed\")\n",
        "\n"
      ],
      "metadata": {
        "colab": {
          "base_uri": "https://localhost:8080/"
        },
        "id": "jjQXaxuzuc3c",
        "outputId": "207640ac-d4aa-483d-d984-f3071df813ba"
      },
      "execution_count": null,
      "outputs": [
        {
          "output_type": "stream",
          "name": "stdout",
          "text": [
            "Guess: 1\n",
            "Guess: 2\n",
            "Guess: 3\n",
            "sorry, You failed\n"
          ]
        }
      ]
    },
    {
      "cell_type": "markdown",
      "source": [
        "* **Exercise:**Building the Car game*"
      ],
      "metadata": {
        "id": "OmqYVEy2ygij"
      }
    },
    {
      "cell_type": "code",
      "source": [
        "command = \"\"\n",
        "while command.lower() != \"quit\":\n",
        "  command = input(\" > \")             #to improve quality use .lower() here\n",
        "  if command.lower() == \"start\":\n",
        "\n",
        "    print(\"Car Started....\")\n",
        "  elif command.lower() == \"stop\":\n",
        "    print(\"Car Stopped\")\n",
        "  elif command.lower() == \"help\":\n",
        "    print(\"\"\"\n",
        "    start - to start the car\n",
        "    stop - to stop the car\n",
        "    quit - to quit\n",
        "    \"\"\")\n",
        "  elif command.lower() == \"quit\":\n",
        "    break\n",
        "  else:\n",
        "    print(\"sorry, I don't understand the command\")\n",
        "\n",
        "\n"
      ],
      "metadata": {
        "colab": {
          "base_uri": "https://localhost:8080/"
        },
        "id": "HcDUSONzyPSi",
        "outputId": "4d7142df-1ef6-42c9-b19d-785269916978"
      },
      "execution_count": 10,
      "outputs": [
        {
          "name": "stdout",
          "output_type": "stream",
          "text": [
            " > start\n",
            "Car Started....\n",
            " > start\n",
            "Car Started....\n",
            " > stop\n",
            "Car Stopped\n",
            " > stop\n",
            "Car Stopped\n",
            " > quit\n"
          ]
        }
      ]
    },
    {
      "cell_type": "markdown",
      "source": [
        "*Improve the above code*"
      ],
      "metadata": {
        "id": "emsINAMq5BZR"
      }
    },
    {
      "cell_type": "code",
      "source": [],
      "metadata": {
        "id": "8Hfq49DF5Aoz"
      },
      "execution_count": null,
      "outputs": []
    },
    {
      "cell_type": "code",
      "source": [
        "command = \"\"\n",
        "started = False\n",
        "while command.lower() != \"quit\":\n",
        "  command = input(\" > \")             #to improve quality use .lower() here\n",
        "  if command.lower() == \"start\":\n",
        "    if started:\n",
        "      print(\"Car i already started! Don't press the start button again\")\n",
        "    else:\n",
        "      started = True\n",
        "      print(\"Car Started....\")\n",
        "\n",
        "  elif command.lower() == \"stop\":\n",
        "    if not started:\n",
        "      print(\"Car is already stopped! \")\n",
        "    else:\n",
        "      started = False\n",
        "      print(\"Car Stopped\")\n",
        "  elif command.lower() == \"help\":\n",
        "    print(\"\"\"\n",
        "    start - to start the car\n",
        "    stop - to stop the car\n",
        "    quit - to quit\n",
        "    \"\"\")\n",
        "  elif command.lower() == \"quit\":\n",
        "    break\n",
        "  else:\n",
        "    print(\"sorry, I don't understand the command\")\n",
        "\n",
        "\n",
        "\n"
      ],
      "metadata": {
        "colab": {
          "base_uri": "https://localhost:8080/"
        },
        "outputId": "9c114777-e240-44bf-d4b2-5a906026c512",
        "id": "2MvEfV2o5Pgj"
      },
      "execution_count": null,
      "outputs": [
        {
          "name": "stdout",
          "output_type": "stream",
          "text": [
            " > stop\n",
            "Car is already stopped! \n",
            " > start\n",
            "Car Started....\n",
            " > stop\n",
            "Car Stopped\n",
            " > stop\n",
            "Car is already stopped! \n",
            " > quit\n"
          ]
        }
      ]
    },
    {
      "cell_type": "code",
      "source": [
        "# print(\"hello world\")\n",
        "a = input(\"enter the first no. \")\n",
        "b = input(\"enter the second no. \")\n",
        "c = int(a + b)\n",
        "print(c)\n",
        "print(type(c))"
      ],
      "metadata": {
        "id": "eL65kh2FjNoa"
      },
      "execution_count": null,
      "outputs": []
    },
    {
      "cell_type": "code",
      "source": [
        "sum = (10 + 20) * 50\n",
        "print(\"sum\")\n",
        "print(sum)\n",
        "\n",
        "\n",
        "\n"
      ],
      "metadata": {
        "colab": {
          "base_uri": "https://localhost:8080/"
        },
        "id": "LyAA9J6tmFK6",
        "outputId": "207e3858-b37f-4a9e-fe38-7b0360d16b4b"
      },
      "execution_count": 8,
      "outputs": [
        {
          "output_type": "stream",
          "name": "stdout",
          "text": [
            "sum\n",
            "1500\n"
          ]
        }
      ]
    },
    {
      "cell_type": "markdown",
      "source": [
        "***For loop***"
      ],
      "metadata": {
        "id": "SRGnnPjj7yQN"
      }
    },
    {
      "cell_type": "code",
      "source": [
        "for item in 'python':\n",
        "  print(item)"
      ],
      "metadata": {
        "colab": {
          "base_uri": "https://localhost:8080/"
        },
        "id": "idFwJi6C4_z5",
        "outputId": "8979a5e6-ad12-4c56-bbf0-59e6f4bb3490"
      },
      "execution_count": null,
      "outputs": [
        {
          "output_type": "stream",
          "name": "stdout",
          "text": [
            "p\n",
            "y\n",
            "t\n",
            "h\n",
            "o\n",
            "n\n"
          ]
        }
      ]
    },
    {
      "cell_type": "code",
      "source": [
        "for item in [1, 2, 3, 4, 5, 6, 7, 8, 9, 10]:\n",
        "  print(item)"
      ],
      "metadata": {
        "colab": {
          "base_uri": "https://localhost:8080/"
        },
        "id": "rFGkjrOI8UMw",
        "outputId": "50e50eb4-8391-4af3-d4d5-9756996deb8f"
      },
      "execution_count": null,
      "outputs": [
        {
          "output_type": "stream",
          "name": "stdout",
          "text": [
            "1\n",
            "2\n",
            "3\n",
            "4\n",
            "5\n",
            "6\n",
            "7\n",
            "8\n",
            "9\n",
            "10\n"
          ]
        }
      ]
    },
    {
      "cell_type": "code",
      "source": [
        "\"\"\"\n",
        "in python we have range function to implicitly mention the range of the list:\n",
        "example\n",
        "\"\"\"\n",
        "for item in range(10):\n",
        "  print(item)"
      ],
      "metadata": {
        "colab": {
          "base_uri": "https://localhost:8080/"
        },
        "id": "3wPzVAvq8r9p",
        "outputId": "9fa4c89b-2e06-4c69-de9a-a79a1c77740f"
      },
      "execution_count": null,
      "outputs": [
        {
          "output_type": "stream",
          "name": "stdout",
          "text": [
            "0\n",
            "1\n",
            "2\n",
            "3\n",
            "4\n",
            "5\n",
            "6\n",
            "7\n",
            "8\n",
            "9\n"
          ]
        }
      ]
    },
    {
      "cell_type": "code",
      "source": [
        "for item in range(10, 20):\n",
        "  print(item)"
      ],
      "metadata": {
        "colab": {
          "base_uri": "https://localhost:8080/"
        },
        "id": "lmsGbI4K4F-z",
        "outputId": "92014094-bde8-44c9-b746-3782c25593b4"
      },
      "execution_count": null,
      "outputs": [
        {
          "output_type": "stream",
          "name": "stdout",
          "text": [
            "10\n",
            "11\n",
            "12\n",
            "13\n",
            "14\n",
            "15\n",
            "16\n",
            "17\n",
            "18\n",
            "19\n"
          ]
        }
      ]
    },
    {
      "cell_type": "code",
      "source": [
        "for item in range(10, 30, 2):\n",
        "  print(item)"
      ],
      "metadata": {
        "colab": {
          "base_uri": "https://localhost:8080/"
        },
        "id": "K5JYryWY9Y9d",
        "outputId": "a960dd81-2d65-4577-9d8f-7cf815f4a69d"
      },
      "execution_count": null,
      "outputs": [
        {
          "output_type": "stream",
          "name": "stdout",
          "text": [
            "10\n",
            "12\n",
            "14\n",
            "16\n",
            "18\n",
            "20\n",
            "22\n",
            "24\n",
            "26\n",
            "28\n"
          ]
        }
      ]
    },
    {
      "cell_type": "markdown",
      "source": [
        "Escape Sequences:"
      ],
      "metadata": {
        "id": "JpMeVKBtqjg8"
      }
    },
    {
      "cell_type": "code",
      "source": [
        "string = \"This is a string\"\n",
        "# Insert a single quote before the word \"string\"\n",
        "newStr = string[:10] + '\\'' + string[10:]\n",
        "print(newStr)"
      ],
      "metadata": {
        "id": "y9bTwsbCqQ1V"
      },
      "execution_count": null,
      "outputs": []
    },
    {
      "cell_type": "code",
      "source": [
        "#backslash\n",
        "print(\" Printed string is \\\\\")"
      ],
      "metadata": {
        "id": "R1Sr_q-1qXmf"
      },
      "execution_count": null,
      "outputs": []
    },
    {
      "cell_type": "code",
      "source": [
        "#new line\n",
        "print(\"This is the first line.\\nThis is the second line.\")"
      ],
      "metadata": {
        "id": "YlzKMk37quGm"
      },
      "execution_count": null,
      "outputs": []
    },
    {
      "cell_type": "markdown",
      "source": [
        " **Carriage return:**It is one of the special escape sequences in python that lets us return to the start of the line overwriting whatever was already written. It is denoted by ‘r’ followed by a backslash"
      ],
      "metadata": {
        "id": "k841Yk8jrE_C"
      }
    },
    {
      "cell_type": "code",
      "source": [
        "print(\"This is the first line.\", end=\"\\r\")\n",
        "print(\"This is the second line.\")"
      ],
      "metadata": {
        "colab": {
          "base_uri": "https://localhost:8080/"
        },
        "id": "w9oGKjvvqzY5",
        "outputId": "62098a5a-bd02-426f-8526-0fbe5c1e4513"
      },
      "execution_count": null,
      "outputs": [
        {
          "output_type": "stream",
          "name": "stdout",
          "text": [
            "This is the first line.\rThis is the second line.\n"
          ]
        }
      ]
    },
    {
      "cell_type": "markdown",
      "source": [
        " **Tab:**\n",
        "A Tab equals eight whitespaces and it can be implemented by writing backslash followed up by t. It is helpful in separating statements to improve the readability of string."
      ],
      "metadata": {
        "id": "JUZdKC3urZCA"
      }
    },
    {
      "cell_type": "code",
      "source": [
        "print(\"First\\tSecond\\tThird\")\n",
        "print(\"1\\t2\\t3\")\n",
        "print(\"A\\tB\\tC\")"
      ],
      "metadata": {
        "colab": {
          "base_uri": "https://localhost:8080/"
        },
        "id": "aZ_u-5YdrXg9",
        "outputId": "0c513331-c9a1-4325-e26b-bee108b95bf3"
      },
      "execution_count": null,
      "outputs": [
        {
          "output_type": "stream",
          "name": "stdout",
          "text": [
            "First\tSecond\tThird\n",
            "1\t2\t3\n",
            "A\tB\tC\n"
          ]
        }
      ]
    },
    {
      "cell_type": "markdown",
      "source": [
        "**Backspace:** When the \\b escape sequence is used within a string, it moves the cursor one position to the left, as a matter of fact, it erases the character that was previously present at the position."
      ],
      "metadata": {
        "id": "mkb-UA4Nr1FL"
      }
    },
    {
      "cell_type": "code",
      "source": [
        "print(\"abc\\bdef\")"
      ],
      "metadata": {
        "id": "eN7aYWgsr5bE"
      },
      "execution_count": null,
      "outputs": []
    },
    {
      "cell_type": "markdown",
      "source": [
        "**Octal Value**:\n",
        "There exists an escape sequence in python that can convert the octal value into a string. It is represented by ‘\\ooo’ where ‘ooo’ is a sequence that has 3 values each ranging from 0 to 7. Let’s take an example to understand."
      ],
      "metadata": {
        "id": "1NlR8FU9sZJe"
      }
    },
    {
      "cell_type": "code",
      "source": [
        "print(\"Example of using the \\141 escape sequence.\")\n",
        "\n",
        "'''\n",
        "In this above-mentioned code, the print() function is being used\n",
        " to print a string that contains the \\141 as an escape sequence.\n",
        "  When the escape sequence is read, Python replaces the\n",
        " corresponding ASCII character with the octal value 141, that is ‘a’\n",
        "'''"
      ],
      "metadata": {
        "colab": {
          "base_uri": "https://localhost:8080/",
          "height": 87
        },
        "id": "2i8XPgGmsWWn",
        "outputId": "0090db52-2f3c-48b6-f84f-328f16280f33"
      },
      "execution_count": null,
      "outputs": [
        {
          "output_type": "stream",
          "name": "stdout",
          "text": [
            "Example of using the a escape sequence.\n"
          ]
        },
        {
          "output_type": "execute_result",
          "data": {
            "text/plain": [
              "'\\nIn this above-mentioned code, the print() function is being used\\n to print a string that contains the a as an escape sequence.\\n  When the escape sequence is read, Python replaces the\\n corresponding ASCII character with the octal value 141, that is ‘a’\\n'"
            ],
            "application/vnd.google.colaboratory.intrinsic+json": {
              "type": "string"
            }
          },
          "metadata": {},
          "execution_count": 5
        }
      ]
    },
    {
      "cell_type": "markdown",
      "source": [
        " **Hexadecimal Value:**\n",
        "There exists an escape sequence in python that can convert the hexadecimal value into a string. It is represented by ‘\\xhh’ where ‘xhh’ is a sequence that has 2 values each ranging from 0 to 9 and A to F. Let’s take an example to understand this better."
      ],
      "metadata": {
        "id": "73YdG6Nrs111"
      }
    },
    {
      "cell_type": "code",
      "source": [
        "print(\"Example of using the \\x41 escape sequence.\")"
      ],
      "metadata": {
        "colab": {
          "base_uri": "https://localhost:8080/"
        },
        "id": "iy-gAahys1gZ",
        "outputId": "1caee93e-ba63-4135-fd9a-ab7549841ef8"
      },
      "execution_count": null,
      "outputs": [
        {
          "output_type": "stream",
          "name": "stdout",
          "text": [
            "Example of using the A escape sequence.\n"
          ]
        }
      ]
    },
    {
      "cell_type": "code",
      "source": [],
      "metadata": {
        "id": "3cHnuqswtN5_"
      },
      "execution_count": null,
      "outputs": []
    },
    {
      "cell_type": "code",
      "source": [],
      "metadata": {
        "id": "lXu_Gf5ZtNkZ"
      },
      "execution_count": null,
      "outputs": []
    },
    {
      "cell_type": "code",
      "source": [],
      "metadata": {
        "id": "pNkC8pp6tNcA"
      },
      "execution_count": null,
      "outputs": []
    },
    {
      "cell_type": "markdown",
      "source": [],
      "metadata": {
        "id": "GaoJPDNUskA2"
      }
    },
    {
      "cell_type": "markdown",
      "source": [
        "**Lists:** A list is a collection which is ordered and changeable. In python lists are written with square brackets:"
      ],
      "metadata": {
        "id": "zXpicbAwUfM1"
      }
    },
    {
      "cell_type": "code",
      "source": [
        "names = [\"sajid\", \"nadeem\" ,\"touseef\", \"shahid\", \"Ram\"]\n",
        "print(names[0])\n",
        "print(names[-4])\n",
        "names[2] = \"tousyf\"\n",
        "print(names)\n",
        "\n",
        "print(names[0:3])\n",
        "\n",
        "names.append(\"Ajay\")\n",
        "print(names)\n",
        "\n",
        "names.insert(0, \"Rama\")\n",
        "print(names)\n",
        "\n",
        "names.remove(\"nadeem\")\n",
        "print(names)\n",
        "\n",
        "print(\"sajid\" in names)\n",
        "\n",
        "print(len(names))\n",
        "\n",
        "names.clear()\n",
        "print(names)\n",
        "\n",
        "\n",
        "\n",
        "\n",
        "\n"
      ],
      "metadata": {
        "id": "5fMHWFXJUSzg"
      },
      "execution_count": null,
      "outputs": []
    },
    {
      "cell_type": "code",
      "source": [
        "numbers = [1,2,3,4,5,6]\n",
        "for i in numbers:\n",
        "  print(i)\n",
        "\n",
        "\n",
        "\n",
        "\n",
        "i = 1\n",
        "while i <= len(numbers):\n",
        "  print(i)\n",
        "  i =i + 1\n",
        "\n",
        "\n",
        "\n",
        "\n"
      ],
      "metadata": {
        "id": "MhaJOEW0WEIj"
      },
      "execution_count": null,
      "outputs": []
    },
    {
      "cell_type": "markdown",
      "source": [
        "range()"
      ],
      "metadata": {
        "id": "hODHt0QKbfIO"
      }
    },
    {
      "cell_type": "code",
      "source": [
        "numbers = range (10)\n",
        "print(numbers)\n",
        "\n",
        "for num in numbers:\n",
        "  print(num)\n",
        "\n",
        "\n",
        "numbers = range (10, 20)\n",
        "for num in numbers:\n",
        "  print(num)\n",
        "\n",
        "numbers = range (10, 20, 2)\n",
        "for num in numbers:\n",
        "  print(num)\n",
        "\n",
        "\n",
        "for num in range(10):\n",
        "  print(num)"
      ],
      "metadata": {
        "id": "1RrLI263bhXy"
      },
      "execution_count": null,
      "outputs": []
    },
    {
      "cell_type": "code",
      "source": [],
      "metadata": {
        "id": "jrToqF-DZNjs"
      },
      "execution_count": null,
      "outputs": []
    },
    {
      "cell_type": "code",
      "source": [],
      "metadata": {
        "id": "JzKI4ciBRzX8"
      },
      "execution_count": null,
      "outputs": []
    },
    {
      "cell_type": "code",
      "source": [],
      "metadata": {
        "id": "7KRaWJV4Nlf9"
      },
      "execution_count": null,
      "outputs": []
    },
    {
      "cell_type": "code",
      "source": [],
      "metadata": {
        "id": "VWM_Vr7ccmIJ"
      },
      "execution_count": null,
      "outputs": []
    }
  ]
}