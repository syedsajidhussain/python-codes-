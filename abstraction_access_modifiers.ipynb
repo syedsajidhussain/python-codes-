{
  "nbformat": 4,
  "nbformat_minor": 0,
  "metadata": {
    "colab": {
      "provenance": [],
      "mount_file_id": "1P5bCBt8aY9sKwqxejNZKIMv1qttIeNy1",
      "authorship_tag": "ABX9TyO/cOfPL98ocgs5W9XiplpH",
      "include_colab_link": true
    },
    "kernelspec": {
      "name": "python3",
      "display_name": "Python 3"
    },
    "language_info": {
      "name": "python"
    }
  },
  "cells": [
    {
      "cell_type": "markdown",
      "metadata": {
        "id": "view-in-github",
        "colab_type": "text"
      },
      "source": [
        "<a href=\"https://colab.research.google.com/github/syedsajidhussain/python-codes-/blob/main/abstraction_access_modifiers.ipynb\" target=\"_parent\"><img src=\"https://colab.research.google.com/assets/colab-badge.svg\" alt=\"Open In Colab\"/></a>"
      ]
    },
    {
      "cell_type": "code",
      "source": [
        "from abc import ABC, abstractmethod\n",
        "class polygon(ABC):\n",
        "  @abstractmethod\n",
        "  def noofsides(self):\n",
        "    pass\n",
        "\n",
        "class triangle(polygon):\n",
        "  def noofsides(self):\n",
        "    print(\"i have three sides\")\n",
        "class square(polygon):\n",
        "  def noofsides(self):\n",
        "    print(\"i have four sides\")\n",
        "\n",
        "#p1=polygon()\n",
        "t1=triangle()\n",
        "t1.noofsides()\n",
        "\n"
      ],
      "metadata": {
        "colab": {
          "base_uri": "https://localhost:8080/"
        },
        "id": "u2yMfKxPrUej",
        "outputId": "3568001b-c497-490b-b3a2-fbf78a912faa"
      },
      "execution_count": null,
      "outputs": [
        {
          "output_type": "stream",
          "name": "stdout",
          "text": [
            "i have three sides\n"
          ]
        }
      ]
    },
    {
      "cell_type": "code",
      "source": [
        "# program to illustrate private access modifier in a class\n",
        "\n",
        "class Geek:\n",
        "\n",
        "\t# private members\n",
        "\t__name = None\n",
        "\t__roll = None\n",
        "\t__branch = None\n",
        "\n",
        "\t# constructor\n",
        "\tdef __init__(self, name, roll, branch):\n",
        "\t\tself.__name = name\n",
        "\t\tself.__roll = roll\n",
        "\t\tself.__branch = branch\n",
        "\n",
        "\t# private member function\n",
        "\tdef __displayDetails(self):\n",
        "\n",
        "\t\t# accessing private data members\n",
        "\t\tprint(\"Name: \", self.__name)\n",
        "\t\tprint(\"Roll: \", self.__roll)\n",
        "\t\tprint(\"Branch: \", self.__branch)\n",
        "\n",
        "\t# public member function\n",
        "\tdef accessPrivateFunction(self):\n",
        "\n",
        "\t\t# accessing private member function\n",
        "\t\tself.__displayDetails()\n",
        "\n",
        "# creating object\n",
        "obj = Geek(\"R2J\", 1706256, \"Information Technology\")\n",
        "\n",
        "# calling public member function of the class\n",
        "obj.accessPrivateFunction()\n"
      ],
      "metadata": {
        "id": "X100I2sSsGIY"
      },
      "execution_count": null,
      "outputs": []
    },
    {
      "cell_type": "code",
      "source": [
        "#by default public access modifier\n",
        "class Student:\n",
        "  def __init__(self):\n",
        "    self.name=\"sajid\"\n",
        "\n",
        "\n",
        "  def show(self):\n",
        "    print(\"my name is:\", self.name)\n",
        "\n",
        "s1=Student()\n",
        "s1.name"
      ],
      "metadata": {
        "colab": {
          "base_uri": "https://localhost:8080/",
          "height": 36
        },
        "id": "iZ_QOsDNWzOo",
        "outputId": "040c679d-3bae-4ea7-a38e-85c7b3b6e577"
      },
      "execution_count": 2,
      "outputs": [
        {
          "output_type": "execute_result",
          "data": {
            "text/plain": [
              "'sajid'"
            ],
            "application/vnd.google.colaboratory.intrinsic+json": {
              "type": "string"
            }
          },
          "metadata": {},
          "execution_count": 2
        }
      ]
    },
    {
      "cell_type": "code",
      "source": [],
      "metadata": {
        "id": "avdDj7v1XKvP"
      },
      "execution_count": null,
      "outputs": []
    },
    {
      "cell_type": "code",
      "source": [
        "#private Access modifier\n",
        "class Student:\n",
        "  def __init__(self):\n",
        "    self.__name=\"sajid\"\n",
        "\n",
        "\n",
        "  def __show(self):\n",
        "    print(\"my name is:\", self.name)\n",
        "\n",
        "s1=Student()\n",
        "#s1.__name\n",
        "print(s1._Student__name)#data mangling\n",
        "print(s1.__dir__())"
      ],
      "metadata": {
        "colab": {
          "base_uri": "https://localhost:8080/"
        },
        "outputId": "014cf616-3058-46e4-9075-46897072f433",
        "id": "UH8tbnvQXRde"
      },
      "execution_count": 6,
      "outputs": [
        {
          "output_type": "stream",
          "name": "stdout",
          "text": [
            "sajid\n",
            "['_Student__name', '__module__', '__init__', '_Student__show', '__dict__', '__weakref__', '__doc__', '__new__', '__repr__', '__hash__', '__str__', '__getattribute__', '__setattr__', '__delattr__', '__lt__', '__le__', '__eq__', '__ne__', '__gt__', '__ge__', '__reduce_ex__', '__reduce__', '__subclasshook__', '__init_subclass__', '__format__', '__sizeof__', '__dir__', '__class__']\n"
          ]
        }
      ]
    },
    {
      "cell_type": "code",
      "source": [],
      "metadata": {
        "id": "5_11DlVBXcKi"
      },
      "execution_count": null,
      "outputs": []
    },
    {
      "cell_type": "code",
      "source": [
        "class Student:\n",
        "  def __init__(self):\n",
        "    self.name=\"sajid\"\n",
        "\n",
        "\n",
        "  def show(self):\n",
        "    print(\"my name is:\", self.name)\n",
        "\n",
        "s1=Student()\n",
        "s1.name"
      ],
      "metadata": {
        "id": "A7ZGjrpZY8iP"
      },
      "execution_count": null,
      "outputs": []
    },
    {
      "cell_type": "code",
      "source": [
        "class Student:\n",
        "  def __init__(self):\n",
        "    self._name=\"sajid\"\n",
        "\n",
        "\n",
        "  def _show(self):\n",
        "    print(\"my name is:\", self._name)\n",
        "\n",
        "class Employee(Student):\n",
        "  pass\n",
        "\n",
        "\n",
        "s1=Employee()\n",
        "s1._show()"
      ],
      "metadata": {
        "colab": {
          "base_uri": "https://localhost:8080/"
        },
        "outputId": "baef35a5-32ee-4746-f4da-ec41523f990f",
        "id": "QccJKSMGX9sL"
      },
      "execution_count": 8,
      "outputs": [
        {
          "output_type": "stream",
          "name": "stdout",
          "text": [
            "my name is: sajid\n"
          ]
        }
      ]
    },
    {
      "cell_type": "code",
      "source": [],
      "metadata": {
        "id": "6HIvroZLZpah"
      },
      "execution_count": null,
      "outputs": []
    }
  ]
}