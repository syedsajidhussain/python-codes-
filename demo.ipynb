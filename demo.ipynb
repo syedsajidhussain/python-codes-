{
  "nbformat": 4,
  "nbformat_minor": 0,
  "metadata": {
    "colab": {
      "provenance": [],
      "mount_file_id": "1xlOlmk7uL9QTLjwAALkHIdTToM_XZAve",
      "authorship_tag": "ABX9TyMHgTXY0wOAsnT6rfhFnvpN",
      "include_colab_link": true
    },
    "kernelspec": {
      "name": "python3",
      "display_name": "Python 3"
    },
    "language_info": {
      "name": "python"
    }
  },
  "cells": [
    {
      "cell_type": "markdown",
      "metadata": {
        "id": "view-in-github",
        "colab_type": "text"
      },
      "source": [
        "<a href=\"https://colab.research.google.com/github/syedsajidhussain/python-codes-/blob/main/demo.ipynb\" target=\"_parent\"><img src=\"https://colab.research.google.com/assets/colab-badge.svg\" alt=\"Open In Colab\"/></a>"
      ]
    },
    {
      "cell_type": "code",
      "execution_count": 4,
      "metadata": {
        "colab": {
          "base_uri": "https://localhost:8080/",
          "height": 35
        },
        "id": "5gjuF14rxzvA",
        "outputId": "29e16499-7c0a-4033-8cea-c93037c24f3c"
      },
      "outputs": [
        {
          "output_type": "execute_result",
          "data": {
            "text/plain": [
              "' print(\"welcome class\")\\na = 10\\nb = 20\\nc = a+b\\nprint(c)\\n'"
            ],
            "application/vnd.google.colaboratory.intrinsic+json": {
              "type": "string"
            }
          },
          "metadata": {},
          "execution_count": 4
        }
      ],
      "source": [
        "\"\"\" print(\"welcome class\")\n",
        "a = 10\n",
        "b = 20\n",
        "c = a+b\n",
        "print(c)\n",
        "\"\"\""
      ]
    },
    {
      "cell_type": "code",
      "source": [],
      "metadata": {
        "id": "7dGCiu5XytBx"
      },
      "execution_count": null,
      "outputs": []
    },
    {
      "cell_type": "code",
      "source": [],
      "metadata": {
        "id": "0WuEIVHRypPS"
      },
      "execution_count": null,
      "outputs": []
    }
  ]
}