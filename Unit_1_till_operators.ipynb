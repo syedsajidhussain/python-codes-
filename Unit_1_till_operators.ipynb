{
  "nbformat": 4,
  "nbformat_minor": 0,
  "metadata": {
    "colab": {
      "provenance": [],
      "authorship_tag": "ABX9TyMM54P2VJ/LWe30yem6akiA",
      "include_colab_link": true
    },
    "kernelspec": {
      "name": "python3",
      "display_name": "Python 3"
    },
    "language_info": {
      "name": "python"
    }
  },
  "cells": [
    {
      "cell_type": "markdown",
      "metadata": {
        "id": "view-in-github",
        "colab_type": "text"
      },
      "source": [
        "<a href=\"https://colab.research.google.com/github/syedsajidhussain/python-codes-/blob/main/Unit_1_till_operators.ipynb\" target=\"_parent\"><img src=\"https://colab.research.google.com/assets/colab-badge.svg\" alt=\"Open In Colab\"/></a>"
      ]
    },
    {
      "cell_type": "code",
      "execution_count": null,
      "metadata": {
        "id": "0mT4kXyR5iQP"
      },
      "outputs": [],
      "source": [
        "print(\"welcome to the data types\")"
      ]
    },
    {
      "cell_type": "code",
      "source": [
        " print(\"welcome class\")\n",
        "a = 10j\n",
        "b = False\n",
        "#c = a+b\n",
        "#print(c)\n",
        "print(type(b))\n"
      ],
      "metadata": {
        "id": "hq-v6TM91e4a",
        "colab": {
          "base_uri": "https://localhost:8080/"
        },
        "outputId": "6ae7ef90-a1c6-4515-8b84-bd8d9e7db65a"
      },
      "execution_count": null,
      "outputs": [
        {
          "output_type": "stream",
          "name": "stdout",
          "text": [
            "welcome class\n",
            "<class 'bool'>\n"
          ]
        }
      ]
    },
    {
      "cell_type": "markdown",
      "source": [
        "**Integer**\n"
      ],
      "metadata": {
        "id": "zMUHWwKs5zt8"
      }
    },
    {
      "cell_type": "code",
      "source": [
        "a= 2\n",
        "print(type(a))"
      ],
      "metadata": {
        "colab": {
          "base_uri": "https://localhost:8080/"
        },
        "id": "cvG744L057sx",
        "outputId": "a7aced8b-eef3-4603-b0f4-20fcea82e1f8"
      },
      "execution_count": null,
      "outputs": [
        {
          "output_type": "stream",
          "name": "stdout",
          "text": [
            "<class 'int'>\n"
          ]
        }
      ]
    },
    {
      "cell_type": "code",
      "source": [
        "a=2222232323232332\n",
        "print(type(a))"
      ],
      "metadata": {
        "colab": {
          "base_uri": "https://localhost:8080/"
        },
        "id": "AaX56lVP6cFl",
        "outputId": "81b851f0-b0a7-4a20-d78f-2511251bebb4"
      },
      "execution_count": null,
      "outputs": [
        {
          "output_type": "stream",
          "name": "stdout",
          "text": [
            "<class 'int'>\n"
          ]
        }
      ]
    },
    {
      "cell_type": "markdown",
      "source": [
        "**Float**\n"
      ],
      "metadata": {
        "id": "3paR4ZmJ6n9g"
      }
    },
    {
      "cell_type": "code",
      "source": [
        "a= 2.5\n",
        "print(type(a))"
      ],
      "metadata": {
        "colab": {
          "base_uri": "https://localhost:8080/"
        },
        "id": "eCjECRxd5x_r",
        "outputId": "9299f809-f798-4c94-d3c3-297f7d829034"
      },
      "execution_count": null,
      "outputs": [
        {
          "output_type": "stream",
          "name": "stdout",
          "text": [
            "<class 'float'>\n"
          ]
        }
      ]
    },
    {
      "cell_type": "code",
      "source": [
        "a= .5\n",
        "print(type(a))"
      ],
      "metadata": {
        "colab": {
          "base_uri": "https://localhost:8080/"
        },
        "id": "INi0dG3e69PW",
        "outputId": "56227ee5-8fea-4f59-ebf5-fc8971df580d"
      },
      "execution_count": null,
      "outputs": [
        {
          "output_type": "stream",
          "name": "stdout",
          "text": [
            "<class 'float'>\n"
          ]
        }
      ]
    },
    {
      "cell_type": "code",
      "source": [
        "x = 35e3\n",
        "y = 12E4\n",
        "z = -87.7e100\n",
        "print(type(x))\n",
        "print(type(y))\n",
        "print(type(z))"
      ],
      "metadata": {
        "colab": {
          "base_uri": "https://localhost:8080/"
        },
        "id": "HeFr78XW7Ghw",
        "outputId": "4fea6f48-a6ea-4706-d2a7-4c5740aa0a3b"
      },
      "execution_count": null,
      "outputs": [
        {
          "output_type": "stream",
          "name": "stdout",
          "text": [
            "<class 'float'>\n",
            "<class 'float'>\n",
            "<class 'float'>\n"
          ]
        }
      ]
    },
    {
      "cell_type": "markdown",
      "source": [
        "**Boolean:\n",
        "Objects of Boolean type may have one of two values, True or False**"
      ],
      "metadata": {
        "id": "4HCwGKMD7mOh"
      }
    },
    {
      "cell_type": "code",
      "source": [
        "print(type(True))\n",
        "\n",
        "print(type(False))"
      ],
      "metadata": {
        "colab": {
          "base_uri": "https://localhost:8080/"
        },
        "id": "kx6hREbJ7edm",
        "outputId": "792d180c-0e7e-41ca-d0fc-e9993b1b1439"
      },
      "execution_count": null,
      "outputs": [
        {
          "output_type": "stream",
          "name": "stdout",
          "text": [
            "<class 'bool'>\n",
            "<class 'bool'>\n"
          ]
        }
      ]
    },
    {
      "cell_type": "markdown",
      "source": [
        "**String:\n",
        "1. Strings in Python are identified as a contiguous set of characters represented in the quotation marks. Python allows for either pairs of single or double quotes.\n",
        "• 'hello' is the same as \"hello\".\n",
        "• Strings can be output to screen using the print function.**"
      ],
      "metadata": {
        "id": "DQPeG4Ha8Fb4"
      }
    },
    {
      "cell_type": "code",
      "source": [
        "stri_1='hello_world'\n",
        "type('stri_1')"
      ],
      "metadata": {
        "colab": {
          "base_uri": "https://localhost:8080/"
        },
        "id": "WRq5swnH8Jxi",
        "outputId": "e69c25a2-bae8-4651-89b1-a35059f939e0"
      },
      "execution_count": null,
      "outputs": [
        {
          "output_type": "execute_result",
          "data": {
            "text/plain": [
              "str"
            ]
          },
          "metadata": {},
          "execution_count": 7
        }
      ]
    },
    {
      "cell_type": "code",
      "source": [
        "a= \"10\"\n",
        "b= \"20\"\n",
        "print(a + b)"
      ],
      "metadata": {
        "colab": {
          "base_uri": "https://localhost:8080/"
        },
        "id": "_RGVUIT63sIu",
        "outputId": "1a232c23-0177-432d-88a0-ad608be5af13"
      },
      "execution_count": null,
      "outputs": [
        {
          "output_type": "stream",
          "name": "stdout",
          "text": [
            "30\n"
          ]
        }
      ]
    },
    {
      "cell_type": "code",
      "source": [
        "birth_year = int(input(\"What is my age? \"))\n",
        "age = 2024 - birth_year\n",
        "print(age)"
      ],
      "metadata": {
        "colab": {
          "base_uri": "https://localhost:8080/"
        },
        "id": "qCioND2U4oTZ",
        "outputId": "30f5da7f-bd50-4b1d-a9a5-117367c12015"
      },
      "execution_count": null,
      "outputs": [
        {
          "output_type": "stream",
          "name": "stdout",
          "text": [
            "What is my age? 1992\n",
            "32\n"
          ]
        }
      ]
    },
    {
      "cell_type": "code",
      "source": [
        "a= 10\n",
        "b= 20.5\n",
        "c = a+ b\n",
        "print(type(c))\n"
      ],
      "metadata": {
        "colab": {
          "base_uri": "https://localhost:8080/"
        },
        "id": "wg3kGKuu5ufg",
        "outputId": "4165333a-0b55-40f0-ba62-244a95246136"
      },
      "execution_count": null,
      "outputs": [
        {
          "output_type": "stream",
          "name": "stdout",
          "text": [
            "<class 'float'>\n"
          ]
        }
      ]
    },
    {
      "cell_type": "code",
      "source": [],
      "metadata": {
        "id": "oLFj4CsI6Itg"
      },
      "execution_count": null,
      "outputs": []
    },
    {
      "cell_type": "markdown",
      "source": [
        "**Suppressing Special Character:**"
      ],
      "metadata": {
        "id": "xm0vb_61ADBj"
      }
    },
    {
      "cell_type": "code",
      "source": [
        "#new line\n",
        "print('a \\n b')\n",
        "print(\"mrcet \\n college\")"
      ],
      "metadata": {
        "colab": {
          "base_uri": "https://localhost:8080/"
        },
        "id": "AsR5M2oqAyC0",
        "outputId": "bf25256c-7505-40b1-f1ff-9e8ef39fa75f"
      },
      "execution_count": null,
      "outputs": [
        {
          "output_type": "stream",
          "name": "stdout",
          "text": [
            "a \n",
            " b\n",
            "mrcet \n",
            " college\n"
          ]
        }
      ]
    },
    {
      "cell_type": "code",
      "source": [
        "#tabs\n",
        "print(\"a\\tb\")\n"
      ],
      "metadata": {
        "colab": {
          "base_uri": "https://localhost:8080/"
        },
        "id": "4fzZxDTWBDO2",
        "outputId": "ba4f73dd-39d4-415f-fc43-b0ddec23c788"
      },
      "execution_count": null,
      "outputs": [
        {
          "output_type": "stream",
          "name": "stdout",
          "text": [
            "a\tb\n"
          ]
        }
      ]
    },
    {
      "cell_type": "markdown",
      "source": [
        "**Input Function**"
      ],
      "metadata": {
        "id": "FnePz9Mq2CE4"
      }
    },
    {
      "cell_type": "code",
      "source": [
        "name = input(\"What is your name? \")\n",
        "print(name)\n",
        "print(\"hello\" + name)"
      ],
      "metadata": {
        "id": "qTG1W885BLd_"
      },
      "execution_count": null,
      "outputs": []
    },
    {
      "cell_type": "markdown",
      "source": [
        "**Type-Conversion**"
      ],
      "metadata": {
        "id": "Hu6XzCQY2voB"
      }
    },
    {
      "cell_type": "markdown",
      "source": [
        "\tWe have the data types:\n",
        "\n",
        "\n",
        "*   Numbers(int, float)\n",
        "*   Strings\n",
        "*   Boolean(True, False)"
      ],
      "metadata": {
        "id": "W1DVXjtg3Iut"
      }
    },
    {
      "cell_type": "code",
      "source": [
        "birth_year = input(“enter your birth year”)\n",
        "age = 2024 – birth_year\n",
        "Print(“My age is:”  + age )"
      ],
      "metadata": {
        "id": "w7cdwuMW2uEV"
      },
      "execution_count": null,
      "outputs": []
    },
    {
      "cell_type": "markdown",
      "source": [
        "**Type Conversion Functions:**\n",
        "\n",
        "1.   int()\n",
        "2.   float()\n",
        "\n",
        "1.   bool()\n",
        "2.   str()\n",
        "\n"
      ],
      "metadata": {
        "id": "TXHHGXfA5KrC"
      }
    },
    {
      "cell_type": "code",
      "source": [
        "#Exercise:\n",
        "a= 10\n",
        "b= 10.2\n",
        "sum = a+b\n",
        "print(sum)\n",
        "#what will be the output"
      ],
      "metadata": {
        "id": "70KLdQzd44zV"
      },
      "execution_count": null,
      "outputs": []
    },
    {
      "cell_type": "code",
      "source": [
        "First = input(“First:”)\n",
        "Second = input(“second:”)\n",
        "Sum = first + second\n",
        "Print(sum)\n",
        "\n",
        "\n",
        "#Print(“Sum:” + sum)"
      ],
      "metadata": {
        "id": "3YdJ-roZ2VBJ"
      },
      "execution_count": null,
      "outputs": []
    },
    {
      "cell_type": "markdown",
      "source": [
        "**Dynamic Typing**"
      ],
      "metadata": {
        "id": "ciLc6ncT6erC"
      }
    },
    {
      "cell_type": "code",
      "source": [
        "#To combine both text and variable python uses the ‘+’ character\n",
        "x= ‘python is’\n",
        "y=“awesome”\n",
        "Print(x+y)"
      ],
      "metadata": {
        "id": "Pb3xHrnP6eFw"
      },
      "execution_count": null,
      "outputs": []
    },
    {
      "cell_type": "markdown",
      "source": [
        "**String Literals**\n",
        "String literals in python are surrounded by either single or double quotes\n",
        "*'hello' is same as \"hello\"*\n",
        "Strings in python are arrays of bytes representing unicode characters. However python doesnt have a character data type, a single character is simply a string with length of 1"
      ],
      "metadata": {
        "id": "bHNqgOfK8VLk"
      }
    },
    {
      "cell_type": "code",
      "source": [
        "#Example\n",
        "a= \"Hello_world\"\n",
        "print(a)\n",
        "print(a[1])\n",
        "print(a[2:5])\n",
        "print(len(a))\n",
        "print(a.lower())\n",
        "print(a.upper())\n",
        "print(a.replace(\"H\", \"j\"))\n",
        "print(a.find('o')) #output: 1\n",
        "print(a.replace()) #output : python 4 beginners\n",
        "#print(‘python’ in course) # output: True(in is a special operator)\n",
        "a.upper()\n"
      ],
      "metadata": {
        "id": "Xa15b93Z6rFv"
      },
      "execution_count": null,
      "outputs": []
    },
    {
      "cell_type": "code",
      "source": [
        "a= 'b'\n",
        "print(type(a))"
      ],
      "metadata": {
        "colab": {
          "base_uri": "https://localhost:8080/"
        },
        "id": "_P_fXVxaCQDe",
        "outputId": "3d3692b1-fcec-4b43-a31a-333562b626ef"
      },
      "execution_count": null,
      "outputs": [
        {
          "output_type": "stream",
          "name": "stdout",
          "text": [
            "<class 'str'>\n"
          ]
        }
      ]
    },
    {
      "cell_type": "markdown",
      "source": [
        "**Python Operators**\n",
        "Oprators are used to perform operations on varaiables and values.\n",
        "Python divides the operators in the following groups:\n",
        "1. Arithmetic\n",
        "1. Assignment operators\n",
        "2. Comparison operators\n",
        "2. Logical operator\n",
        "1. Identity operators\n",
        "2. Membership operators\n",
        "1. Bitwise operators\n",
        "\n",
        "\n",
        "\n",
        "\n",
        "\n"
      ],
      "metadata": {
        "id": "2qLRV28H_Nhn"
      }
    },
    {
      "cell_type": "markdown",
      "source": [
        "**Arithmetic Operators in Python**\n",
        "Python Arithmetic operators are used to perform basic mathematical operations like addition, subtraction, multiplication, and division.\n",
        "\n",
        "In Python 3.x the result of division is a floating-point while in Python 2.x division of 2 integers was an integer. To obtain an integer result in Python 3.x floored (// integer) is used.**"
      ],
      "metadata": {
        "id": "7BfRQv2zDq9C"
      }
    },
    {
      "cell_type": "code",
      "source": [
        "val1 = 2\n",
        "val2 = 3\n",
        "\n",
        "# using the addition operator\n",
        "res = val1 + val2\n",
        "print(res)"
      ],
      "metadata": {
        "id": "dIGJL5NN_M01"
      },
      "execution_count": null,
      "outputs": []
    },
    {
      "cell_type": "code",
      "source": [
        "a = input(\"Enter the first variable \\n\")\n",
        "b = input(\"Enter the second variable \\n\")\n",
        "c = a+ b\n",
        "d= a-b\n",
        "e = a*b\n",
        "f = a% b\n",
        "g = a/b\n",
        "h = a//b\n",
        "print(c)\n",
        "print(d)\n",
        "print(e)\n",
        "print(f)\n",
        "print(g)\n",
        "print(h)"
      ],
      "metadata": {
        "id": "lFadFl4BBYqI"
      },
      "execution_count": null,
      "outputs": []
    },
    {
      "cell_type": "code",
      "source": [
        "val1 = 2\n",
        "val2 = 3\n",
        "\n",
        "# using the subtraction operator\n",
        "res = val1 - val2\n",
        "print(res)"
      ],
      "metadata": {
        "id": "5KuvolviFeQY"
      },
      "execution_count": null,
      "outputs": []
    },
    {
      "cell_type": "code",
      "source": [
        "val1 = 2\n",
        "val2 = 3\n",
        "\n",
        "# using the multiplication operator\n",
        "res = val1 * val2\n",
        "print(res)"
      ],
      "metadata": {
        "id": "-rdaXqPRFn1d"
      },
      "execution_count": null,
      "outputs": []
    },
    {
      "cell_type": "code",
      "source": [
        "\n",
        "\n",
        "val1 = 3\n",
        "val2 = 2\n",
        "\n",
        "# using the division operator\n",
        "res = val1 / val2\n",
        "print(res)"
      ],
      "metadata": {
        "id": "WR-ZrHOFFopb"
      },
      "execution_count": null,
      "outputs": []
    },
    {
      "cell_type": "code",
      "source": [
        "val1 = 3\n",
        "val2 = 2\n",
        "\n",
        "# using the modulus operator\n",
        "res = val1 % val2\n",
        "print(res)"
      ],
      "metadata": {
        "id": "3g-ylGHnFt3X"
      },
      "execution_count": null,
      "outputs": []
    },
    {
      "cell_type": "code",
      "source": [
        "val1 = 2\n",
        "val2 = 3\n",
        "\n",
        "# using the exponentiation operator\n",
        "res = val1 ** val2\n",
        "print(res)"
      ],
      "metadata": {
        "id": "WJYLz5T8F2Eb"
      },
      "execution_count": null,
      "outputs": []
    },
    {
      "cell_type": "code",
      "source": [
        "val1 = 3\n",
        "val2 = 2\n",
        "\n",
        "# using the floor division\n",
        "res = val1 // val2\n",
        "print(res)"
      ],
      "metadata": {
        "id": "xaFI80wyF3i6"
      },
      "execution_count": null,
      "outputs": []
    },
    {
      "cell_type": "markdown",
      "source": [
        "**Relational operators are used for comparing the values. It either returns True or False according to the condition. These operators are also known as Comparison Operators.**"
      ],
      "metadata": {
        "id": "5GHileHsGNNs"
      }
    },
    {
      "cell_type": "code",
      "source": [
        "a = 9\n",
        "b = 5\n",
        "print(a > b)\n",
        "print(a < b)\n",
        "print(a == b)\n",
        "print(a != b)\n",
        "print(a >= b)\n",
        "print(a <= b)"
      ],
      "metadata": {
        "id": "CTECLLOs6U1f"
      },
      "execution_count": null,
      "outputs": []
    },
    {
      "cell_type": "markdown",
      "source": [
        "**Logical Operators**"
      ],
      "metadata": {
        "id": "85IyWYjfKAPC"
      }
    },
    {
      "cell_type": "code",
      "source": [
        "# Python program to demonstrate\n",
        "# logical and operator\n",
        "a = 10\n",
        "b = 10\n",
        "c = -10\n",
        "if a > 0 and b > 0:\n",
        "\tprint(\"The numbers are greater than 0\")\n",
        "if a > 0 and b > 0 and c > 0:\n",
        "\tprint(\"The numbers are greater than 0\")\n",
        "else:\n",
        "\tprint(\"Atleast one number is not greater than 0\")\n"
      ],
      "metadata": {
        "id": "ql_9tW2U6DT6"
      },
      "execution_count": null,
      "outputs": []
    },
    {
      "cell_type": "code",
      "source": [
        "# Python program to demonstrate\n",
        "# logical and operator\n",
        "a = 10\n",
        "b = 12\n",
        "c = 0\n",
        "if a and b and c:\n",
        "\tprint(\"All the numbers have boolean value as True\")\n",
        "else:\n",
        "\tprint(\"Atleast one number has boolean value as False\")\n",
        "#Note: If the first expression is evaluated to be false while using\n",
        "# the AND operator, then the further expressions are not evaluated."
      ],
      "metadata": {
        "id": "Othfzv-FKKzI"
      },
      "execution_count": null,
      "outputs": []
    },
    {
      "cell_type": "code",
      "source": [
        "# Python program to demonstrate\n",
        "# logical or operator\n",
        "a = 10\n",
        "b = -10\n",
        "c = 0\n",
        "if a > 0 or b > 0:\n",
        "\tprint(\"Either of the number is greater than 0\")\n",
        "else:\n",
        "\tprint(\"No number is greater than 0\")\n",
        "if b > 0 or c > 0:\n",
        "\tprint(\"Either of the number is greater than 0\")\n",
        "else:\n",
        "\tprint(\"No number is greater than 0\")\n"
      ],
      "metadata": {
        "id": "0e98lo9hAwe8",
        "colab": {
          "base_uri": "https://localhost:8080/"
        },
        "outputId": "598dc243-4c84-48b0-c22c-b5201eb523fc"
      },
      "execution_count": null,
      "outputs": [
        {
          "output_type": "stream",
          "name": "stdout",
          "text": [
            "Either of the number is greater than 0\n",
            "No number is greater than 0\n"
          ]
        }
      ]
    },
    {
      "cell_type": "code",
      "source": [
        "# Python program to demonstrate\n",
        "# logical not operator\n",
        "a = 10\n",
        "\n",
        "if a:\n",
        "\tprint(\"Boolean value of a is True\")\n",
        "if (a%3 == 0 or a%5 == 0):\n",
        "\tprint(\"10 is not divisible by either 3 or 5\")\n",
        "else:\n",
        "\tprint(\"10 is divisible by either 3 or 5\")\n"
      ],
      "metadata": {
        "id": "qifAj8erLzst",
        "colab": {
          "base_uri": "https://localhost:8080/"
        },
        "outputId": "896856b5-1dae-40a7-bc16-4dba87e68918"
      },
      "execution_count": 7,
      "outputs": [
        {
          "output_type": "stream",
          "name": "stdout",
          "text": [
            "Boolean value of a is True\n",
            "10 is not divisible by either 3 or 5\n"
          ]
        }
      ]
    },
    {
      "cell_type": "markdown",
      "source": [
        "**Order of Precedence of Logical Operators**"
      ],
      "metadata": {
        "id": "O2sGWk3LNT9V"
      }
    },
    {
      "cell_type": "markdown",
      "source": [
        "**In the case of multiple operators, Python always evaluates the expression from left to right. We can verify Python logical operators precedence by the below example**"
      ],
      "metadata": {
        "id": "FTS0Y9usNhsY"
      }
    },
    {
      "cell_type": "code",
      "source": [
        "# Python program to demonstrate\n",
        "# order of evaluation of logical\n",
        "# operators\n",
        "def order(x):\n",
        "\tprint(\"Method called for value:\", x)\n",
        "\treturn True if x > 0 else False\n",
        "a = order\n",
        "b = order\n",
        "c = order\n",
        "if a(-1) or b(5) or c(10):\n",
        "\tprint(\"Atleast one of the number is positive\")\n"
      ],
      "metadata": {
        "id": "f4_KNxHRNlqI",
        "colab": {
          "base_uri": "https://localhost:8080/"
        },
        "outputId": "cae68e5b-342d-4085-9832-9dfb6f43191b"
      },
      "execution_count": 8,
      "outputs": [
        {
          "output_type": "stream",
          "name": "stdout",
          "text": [
            "Method called for value: -1\n",
            "Method called for value: 5\n",
            "Atleast one of the number is positive\n"
          ]
        }
      ]
    },
    {
      "cell_type": "markdown",
      "source": [
        "**Bitwise operators**"
      ],
      "metadata": {
        "id": "PoS4A2iUOe5m"
      }
    },
    {
      "cell_type": "code",
      "source": [
        "# Python program to show\n",
        "# bitwise operators\n",
        "\n",
        "a = 10\n",
        "b = 4\n",
        "\n",
        "# Print bitwise AND operation\n",
        "print(\"a & b =\", a & b)\n",
        "\n",
        "# Print bitwise OR operation\n",
        "print(\"a | b =\", a | b)\n",
        "\n",
        "# Print bitwise NOT operation\n",
        "print(\"~a =\", ~a)\n",
        "\n",
        "# print bitwise XOR operation\n",
        "print(\"a ^ b =\", a ^ b)\n"
      ],
      "metadata": {
        "id": "Cq_CLdH0NYbI",
        "colab": {
          "base_uri": "https://localhost:8080/"
        },
        "outputId": "ba7c7e73-39b2-4485-ad89-c314ebddadef"
      },
      "execution_count": 15,
      "outputs": [
        {
          "output_type": "stream",
          "name": "stdout",
          "text": [
            "a & b = 0\n",
            "a | b = 14\n",
            "~a = -11\n",
            "a ^ b = 14\n"
          ]
        }
      ]
    },
    {
      "cell_type": "markdown",
      "source": [
        "**Assignment Operators in Python**"
      ],
      "metadata": {
        "id": "S69beP2xTS_m"
      }
    },
    {
      "cell_type": "code",
      "source": [
        "a = 3\n",
        "b = 5\n",
        "\n",
        "a = a + b\n",
        "print(a)\n",
        "a += b\n",
        "print(a)\n",
        "'''\n",
        "\n",
        "a= a+b\n",
        "#a = a - b\n",
        "x -= y\n",
        "\n",
        "# a = a * b\n",
        "a *= b\n",
        "\n",
        "# a = a / b\n",
        "a /= b\n",
        "\n",
        "# a = a % b\n",
        "a %= b\n",
        "\n",
        "# a = a ** b\n",
        "a **= b\n",
        "\n",
        "\n",
        "# a = a // b\n",
        "x //= y\n",
        "\n",
        "\n",
        "# a = a & b\n",
        "a &= b\n",
        "\n",
        "\n",
        "a = 3\n",
        "b = 5\n",
        "\n",
        "# a = a >> b\n",
        "a >>= b\n",
        "\n",
        "# Output\n",
        "print(a)\n",
        "'''\n",
        "# Output\n",
        "print(a)\n"
      ],
      "metadata": {
        "id": "qVE60bndUfkF",
        "colab": {
          "base_uri": "https://localhost:8080/"
        },
        "outputId": "dd9310b2-dd8b-4e39-b2dd-9fe10a61d1c6"
      },
      "execution_count": 18,
      "outputs": [
        {
          "output_type": "stream",
          "name": "stdout",
          "text": [
            "8\n",
            "13\n",
            "13\n"
          ]
        }
      ]
    },
    {
      "cell_type": "markdown",
      "source": [
        "**Membership Operators**"
      ],
      "metadata": {
        "id": "-lqC6dF_VxRX"
      }
    },
    {
      "cell_type": "code",
      "source": [
        "Already done"
      ],
      "metadata": {
        "id": "JCNq1KZrVwct"
      },
      "execution_count": null,
      "outputs": []
    },
    {
      "cell_type": "code",
      "source": [],
      "metadata": {
        "id": "_diDbLHrWEA0"
      },
      "execution_count": null,
      "outputs": []
    }
  ]
}